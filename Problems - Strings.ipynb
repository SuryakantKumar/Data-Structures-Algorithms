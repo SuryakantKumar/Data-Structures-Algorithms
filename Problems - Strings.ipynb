{
 "cells": [
  {
   "cell_type": "markdown",
   "metadata": {},
   "source": [
    "# 22. Problem : Check Permutation"
   ]
  },
  {
   "cell_type": "raw",
   "metadata": {},
   "source": [
    "Given two strings, check if they are permutations of each other. Return true or false.\n",
    "Permutation means - length of both the strings should same and should contain same set of characters. Order of characters doesn't matter.\n",
    "\n",
    "Note : Input strings contain only lowercase english alphabets.\n",
    "\n",
    "Input format : Line 1 : String 1 \n",
    "               Line 2 : String 2\n",
    "               \n",
    "Sample Input 1 :\n",
    "abcde\n",
    "baedc\n",
    "\n",
    "Sample Output 1 :\n",
    "true\n",
    "\n",
    "Sample Input 2 :\n",
    "abc\n",
    "cbd\n",
    "\n",
    "Sample Output 2 :\n",
    "false"
   ]
  },
  {
   "cell_type": "markdown",
   "metadata": {},
   "source": [
    "### Pyhton Code"
   ]
  },
  {
   "cell_type": "code",
   "execution_count": 2,
   "metadata": {},
   "outputs": [
    {
     "name": "stdout",
     "output_type": "stream",
     "text": [
      "abcde\n",
      "badec\n",
      "true\n"
     ]
    }
   ],
   "source": [
    "string1 = input()\n",
    "string2 = input()\n",
    "\n",
    "if len(string1) == len(string2):\n",
    "    li = [0]*256\n",
    "    origional = [0]*256\n",
    "    \n",
    "    for char in string1:\n",
    "        li[ord(char)] += 1\n",
    "    for char in string2:\n",
    "        li[ord(char)] -= 1\n",
    "    if li == origional:\n",
    "        print(\"true\")\n",
    "    else:\n",
    "        print(\"false\")\n",
    "        \n",
    "else:\n",
    "    print(\"false\")"
   ]
  },
  {
   "cell_type": "markdown",
   "metadata": {},
   "source": [
    "### Python code Using Dictionary"
   ]
  },
  {
   "cell_type": "code",
   "execution_count": 7,
   "metadata": {},
   "outputs": [
    {
     "name": "stdout",
     "output_type": "stream",
     "text": [
      "abcde\n",
      "badec\n",
      "true\n"
     ]
    }
   ],
   "source": [
    "string1 = input()\n",
    "string2 = input()\n",
    "\n",
    "def Permutation(string1, string2):\n",
    "    frequency = {}\n",
    "    \n",
    "    for char in string1:\n",
    "        if char in frequency:\n",
    "            frequency[char] += 1\n",
    "        else:\n",
    "            frequency[char] = 1\n",
    "            \n",
    "    for char in string2:\n",
    "        if char in frequency:\n",
    "            if frequency[char] == 1:\n",
    "                del frequency[char]\n",
    "            else:\n",
    "                frequency[char] -= 1\n",
    "        else:\n",
    "            return False\n",
    "    if frequency:\n",
    "        return False\n",
    "    else:\n",
    "        return True\n",
    "\n",
    "if Permutation(string1, string2):\n",
    "    print(\"true\")\n",
    "else:\n",
    "    print(\"false\")"
   ]
  },
  {
   "cell_type": "markdown",
   "metadata": {},
   "source": [
    "# 24. Problem : Remove Consecutive Duplicates"
   ]
  },
  {
   "cell_type": "raw",
   "metadata": {},
   "source": [
    "Given a string, remove all the consecutive duplicates that are present in the given string. That means, if 'aaa' is present in the string then it should become 'a' in the output string.\n",
    "\n",
    "Sample Input:\n",
    "aabccbaa\n",
    "\n",
    "Sample Output:\n",
    "abcba"
   ]
  },
  {
   "cell_type": "markdown",
   "metadata": {},
   "source": [
    "### Python Code"
   ]
  },
  {
   "cell_type": "code",
   "execution_count": 6,
   "metadata": {},
   "outputs": [
    {
     "name": "stdout",
     "output_type": "stream",
     "text": [
      "aabccbaa\n",
      "abcba\n"
     ]
    }
   ],
   "source": [
    "string = input()\n",
    "new_string = string[0]           # New String with consecutive duplicates removed\n",
    "\n",
    "for char in string:\n",
    "    if new_string[-1] != char:   # Last digit of new string compared to the character in string\n",
    "        new_string += char       # If it is equal means duplicates are there and we should not add that character into our new string \n",
    "\n",
    "print(new_string)"
   ]
  },
  {
   "cell_type": "markdown",
   "metadata": {},
   "source": [
    "# 25. Problem : Reverse Each Word"
   ]
  },
  {
   "cell_type": "raw",
   "metadata": {},
   "source": [
    "Given a string S, reverse each word of a string individually. For eg. if a string is \"abc def\", reversed string should be \"cba fed\".\n",
    "\n",
    "Input Format : String S\n",
    "Output Format : Updated string\n",
    "Constraints : 1 <= Length of S <= 1000\n",
    "\n",
    "Sample Input :\n",
    "Welcome to Coding Ninjas\n",
    "\n",
    "Sample Output:\n",
    "emocleW ot gnidoC sajniN"
   ]
  },
  {
   "cell_type": "markdown",
   "metadata": {},
   "source": [
    "### Pytthon Code 01"
   ]
  },
  {
   "cell_type": "code",
   "execution_count": 9,
   "metadata": {},
   "outputs": [
    {
     "name": "stdout",
     "output_type": "stream",
     "text": [
      "welcome to coding ninjas\n",
      "emoclew ot gnidoc sajnin \n"
     ]
    }
   ],
   "source": [
    "string = input()\n",
    "words = string.split()\n",
    "\n",
    "new_word = \"\"\n",
    "\n",
    "for word in words:\n",
    "    word = word[::-1]\n",
    "    new_word += word + \" \"\n",
    "    \n",
    "print(new_word)"
   ]
  },
  {
   "cell_type": "markdown",
   "metadata": {},
   "source": [
    "### Python Code 02"
   ]
  },
  {
   "cell_type": "code",
   "execution_count": 10,
   "metadata": {},
   "outputs": [
    {
     "name": "stdout",
     "output_type": "stream",
     "text": [
      "Welcome to my House\n",
      "emocleW ot ym esuoH \n"
     ]
    }
   ],
   "source": [
    "string = input()\n",
    "\n",
    "words = string.split()\n",
    "words_new = \"\"\n",
    "\n",
    "for word in words:\n",
    "    for char in range(len(word)-1, -1, -1):\n",
    "        words_new += word[char]\n",
    "    words_new += \" \"\n",
    "    \n",
    "print(words_new)"
   ]
  },
  {
   "cell_type": "markdown",
   "metadata": {},
   "source": [
    "# 26. problem : Remove character"
   ]
  },
  {
   "cell_type": "raw",
   "metadata": {},
   "source": [
    "Given a string and a character x. Write a function to remove all occurrences of x character from the given string.\n",
    "Leave the string as it is, if the given character is not present in the string.\n",
    "\n",
    "Input format : Line 1 : Input string\n",
    "               Line 2 : Character x\n",
    "               \n",
    "Sample Input :\n",
    "welcome to coding ninjas\n",
    "o\n",
    "\n",
    "Sample Output :\n",
    "welcme t cding ninjas"
   ]
  },
  {
   "cell_type": "markdown",
   "metadata": {},
   "source": [
    "### Python Code"
   ]
  },
  {
   "cell_type": "code",
   "execution_count": 11,
   "metadata": {},
   "outputs": [
    {
     "name": "stdout",
     "output_type": "stream",
     "text": [
      "welcome to coding ninjas\n",
      "o\n",
      "welcme t cding ninjas\n"
     ]
    }
   ],
   "source": [
    "string = input()\n",
    "character = input()\n",
    "\n",
    "new_string = \"\"\n",
    "for char in string:\n",
    "    if character != char:\n",
    "        new_string += char\n",
    "\n",
    "print(new_string)"
   ]
  },
  {
   "cell_type": "markdown",
   "metadata": {},
   "source": [
    "# 27. Problem : Highest Occuring Character"
   ]
  },
  {
   "cell_type": "raw",
   "metadata": {},
   "source": [
    "Given a string, find and return the highest occurring character present in the given string.\n",
    "If there are 2 characters in the input string with same frequency, return the character which comes first.\n",
    "\n",
    "Note : Assume all the characters in the given string are lowercase.\n",
    "\n",
    "Sample Input 1:\n",
    "abdefgbabfba\n",
    "\n",
    "Sample Output 1:\n",
    "b\n",
    "\n",
    "Sample Input 2:\n",
    "xy\n",
    "\n",
    "Sample Output 2:\n",
    "x"
   ]
  },
  {
   "cell_type": "markdown",
   "metadata": {},
   "source": [
    "### Python Code"
   ]
  },
  {
   "cell_type": "code",
   "execution_count": 14,
   "metadata": {},
   "outputs": [
    {
     "name": "stdout",
     "output_type": "stream",
     "text": [
      "abdefgbabfba\n",
      "b\n"
     ]
    }
   ],
   "source": [
    "string = input()\n",
    "\n",
    "freq = [0]*256\n",
    "\n",
    "for char in string:\n",
    "    freq[ord(char)] += 1\n",
    "    \n",
    "most = string[0]\n",
    "\n",
    "for char in string[1:len(string)]:\n",
    "    if freq[ord(char)] > freq[ord(most)]:\n",
    "        most = char\n",
    "\n",
    "print(most)"
   ]
  },
  {
   "cell_type": "markdown",
   "metadata": {},
   "source": [
    "# 29. Problem : Compress the String"
   ]
  },
  {
   "cell_type": "raw",
   "metadata": {},
   "source": [
    "Write a program to do basic string compression. For a character which is consecutively repeated more than once, replace consecutive duplicate occurrences with the count of repetitions.\n",
    "For e.g. if a String has 'x' repeated 5 times, replace this \"xxxxx\" with \"x5\".\n",
    "\n",
    "Note : Consecutive count of every character in input string is less than equal to 9.\n",
    "    \n",
    "Input Format : Input string S\n",
    "Output Format : Compressed string \n",
    "    \n",
    "Sample Input:\n",
    "aaabbccdsa\n",
    "\n",
    "Sample Output:\n",
    "a3b2c2dsa"
   ]
  },
  {
   "cell_type": "markdown",
   "metadata": {},
   "source": [
    "### Python Code"
   ]
  },
  {
   "cell_type": "code",
   "execution_count": 20,
   "metadata": {},
   "outputs": [
    {
     "name": "stdout",
     "output_type": "stream",
     "text": [
      "aaaaabcbbbbaaaaacvvvvvsygggdggvggg\n",
      "a5bcb4a5cv5syg3dg2vg3\n"
     ]
    }
   ],
   "source": [
    "string = input()\n",
    "\n",
    "def compress(string):\n",
    "    count = 1\n",
    "    result = string[0]\n",
    "    \n",
    "    for i in range(len(string) - 1):\n",
    "        if(string[i] == string[i+1]):\n",
    "            count += 1\n",
    "        else:\n",
    "            if(count > 1):\n",
    "                result += str(count)\n",
    "            result += string[i+1]\n",
    "            count = 1\n",
    "            \n",
    "    if(count > 1):                    # For Last repeating character\n",
    "        result += str(count)\n",
    "    return result\n",
    "\n",
    "result=compress(string)\n",
    "print(result)"
   ]
  }
 ],
 "metadata": {
  "kernelspec": {
   "display_name": "Python 3",
   "language": "python",
   "name": "python3"
  },
  "language_info": {
   "codemirror_mode": {
    "name": "ipython",
    "version": 3
   },
   "file_extension": ".py",
   "mimetype": "text/x-python",
   "name": "python",
   "nbconvert_exporter": "python",
   "pygments_lexer": "ipython3",
   "version": "3.7.3"
  }
 },
 "nbformat": 4,
 "nbformat_minor": 2
}
