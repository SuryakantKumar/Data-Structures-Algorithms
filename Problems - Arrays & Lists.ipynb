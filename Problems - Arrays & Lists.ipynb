{
 "cells": [
  {
   "cell_type": "markdown",
   "metadata": {},
   "source": [
    "# 17. Problem : Array Sum"
   ]
  },
  {
   "cell_type": "raw",
   "metadata": {},
   "source": [
    "Given an array of length N, you need to find and print the sum of all elements of the array.\n",
    "\n",
    "Input Format : Line 1 : An Integer N i.e. size of array\n",
    "               Line 2 : N integers which are elements of the array, separated by spaces\n",
    "\n",
    "Output Format : Sum\n",
    "Constraints : 1 <= N <= 10^6\n",
    "\n",
    "Sample Input :\n",
    "3\n",
    "9 8 9\n",
    "\n",
    "Sample Output :\n",
    "26"
   ]
  },
  {
   "cell_type": "markdown",
   "metadata": {},
   "source": [
    "### Python Code"
   ]
  },
  {
   "cell_type": "code",
   "execution_count": 1,
   "metadata": {},
   "outputs": [
    {
     "name": "stdout",
     "output_type": "stream",
     "text": [
      "5\n",
      "1 2 3 4 5\n",
      "15\n"
     ]
    }
   ],
   "source": [
    "def ArraySum(li, n):\n",
    "    sum = 0\n",
    "    for i in li:\n",
    "        sum += i\n",
    "    return sum\n",
    "\n",
    "n = int(input())\n",
    "li = [int(x) for x in input().strip().split()]\n",
    "ans = ArraySum(li, n)\n",
    "print(ans)"
   ]
  },
  {
   "cell_type": "markdown",
   "metadata": {},
   "source": [
    "# 24. Problem : Swap Alternate"
   ]
  },
  {
   "cell_type": "raw",
   "metadata": {},
   "source": [
    "Given an array of length N, swap every pair of alternate elements in the array.\n",
    "You don't need to print or return anything, just change in the input array itself.\n",
    "\n",
    "Input Format : Line 1 : An Integer N i.e. size of array\n",
    "               Line 2 : N integers which are elements of the array, separated by spaces\n",
    "Output Format : Elements after swapping, separated by space.\n",
    "\n",
    "Sample Input 1:\n",
    "6\n",
    "9 3 6 12 4 32\n",
    "\n",
    "Sample Output 2 :\n",
    "3 9 12 6 32 4\n",
    "\n",
    "Sample Input 1:\n",
    "9\n",
    "9 3 6 12 4 32 5 11 19\n",
    "\n",
    "Sample Output 2 :\n",
    "3 9 12 6 32 4 11 5 19"
   ]
  },
  {
   "cell_type": "markdown",
   "metadata": {},
   "source": [
    "### Python Code"
   ]
  },
  {
   "cell_type": "code",
   "execution_count": 3,
   "metadata": {},
   "outputs": [
    {
     "name": "stdout",
     "output_type": "stream",
     "text": [
      "6\n",
      "1 2 3 4 5 6\n",
      "2 1 4 3 6 5 "
     ]
    }
   ],
   "source": [
    "def swapAlternate(li, n):\n",
    "    for i in range(0, n-1, 2):\n",
    "        li[i], li[i+1] = li[i+1], li[i]\n",
    "\n",
    "n = int(input())\n",
    "li = [int(x) for x in input().strip().split()]\n",
    "swapAlternate(li, n)\n",
    "for num in li:\n",
    "    print(num, end = \" \")"
   ]
  },
  {
   "cell_type": "markdown",
   "metadata": {},
   "source": [
    "# 27. Problem : Find Unique"
   ]
  },
  {
   "cell_type": "raw",
   "metadata": {},
   "source": [
    "Given an integer array of size 2N + 1. In this given array, N numbers are present twice and one number is present only once in the array.\n",
    "You need to find and return that number which is unique in the array.\n",
    "\n",
    "Note : Given array will always contain odd number of elements.\n",
    "\n",
    "Input format : Line 1 : Array size i.e. 2N+1\n",
    "               Line 2 : Array elements (separated by space)\n",
    "Output Format : Unique element present in the array\n",
    "Constraints : 1 <= N <= 10^3\n",
    "\n",
    "Sample Input :\n",
    "7\n",
    "2 3 1 6 3 6 2\n",
    "\n",
    "Sample Output :\n",
    "1"
   ]
  },
  {
   "cell_type": "markdown",
   "metadata": {},
   "source": [
    "### Python Code"
   ]
  },
  {
   "cell_type": "code",
   "execution_count": 8,
   "metadata": {},
   "outputs": [
    {
     "name": "stdout",
     "output_type": "stream",
     "text": [
      "7\n",
      "2 3 1 6 3 6 2\n",
      "1\n"
     ]
    }
   ],
   "source": [
    "n = int(input())\n",
    "li = [int(x) for x in input().split()]\n",
    "\n",
    "def unique(n, li):\n",
    "    for i in range(n):\n",
    "        if li[i] not in li[:i] and li[i] not in li[i+1:]:\n",
    "            return li[i]\n",
    "\n",
    "ans = unique(n, li)\n",
    "print(ans)"
   ]
  },
  {
   "cell_type": "markdown",
   "metadata": {},
   "source": [
    "# 29.problem : Find duplicate"
   ]
  },
  {
   "cell_type": "raw",
   "metadata": {},
   "source": [
    "Given an array of integers of size n which contains numbers from 0 to n - 2. Each number is present at least once. That is, if n = 5, numbers from 0 to 3 is present in the given array at least once and one number is present twice. You need to find and return that duplicate number present in the array.\n",
    "Assume, duplicate number is always present in the array.\n",
    "\n",
    "Input format : Line 1 : Size of input array \n",
    "               Line 2 : Array elements (separated by space)\n",
    "Output Format : Duplicate element\n",
    "Constraints : 1 <= n <= 10^3\n",
    "\n",
    "Sample Input:\n",
    "9\n",
    "0 7 2 5 4 7 1 3 6\n",
    "\n",
    "Sample Output:\n",
    "7"
   ]
  },
  {
   "cell_type": "markdown",
   "metadata": {},
   "source": [
    "### Python Code"
   ]
  },
  {
   "cell_type": "code",
   "execution_count": 1,
   "metadata": {},
   "outputs": [
    {
     "name": "stdout",
     "output_type": "stream",
     "text": [
      "9\n",
      "0 7 2 5 4 7 1 3 6\n",
      "7\n"
     ]
    }
   ],
   "source": [
    "n = int(input())\n",
    "li = [int(x) for x in input().split()]\n",
    "\n",
    "def duplicate(n, li):\n",
    "    for i in range(n):\n",
    "        for j in range(i+1, n):\n",
    "            if li[i] == li[j] and i != j:\n",
    "                return li[i]\n",
    "ans = duplicate(n, li)\n",
    "print(ans)"
   ]
  },
  {
   "cell_type": "markdown",
   "metadata": {},
   "source": [
    "### Python Code 02"
   ]
  },
  {
   "cell_type": "code",
   "execution_count": 6,
   "metadata": {},
   "outputs": [
    {
     "name": "stdout",
     "output_type": "stream",
     "text": [
      "6\n",
      "0 3 2 1 1 4\n",
      "1\n"
     ]
    }
   ],
   "source": [
    "n = int(input())\n",
    "li = [int(x) for x in input().strip().split()]\n",
    "\n",
    "def duplicate(n, li):\n",
    "    sum1 = 0\n",
    "    for i in range(n):\n",
    "        sum1 += i\n",
    "        \n",
    "    sum2 = 0\n",
    "    for i in range(n):\n",
    "        sum2 += li[i]\n",
    "    \n",
    "    diff = sum1 - sum2\n",
    "    duplicate = n - diff - 1\n",
    "    return duplicate\n",
    "\n",
    "ans = duplicate(n, li)\n",
    "print(ans)"
   ]
  },
  {
   "cell_type": "markdown",
   "metadata": {},
   "source": [
    "# 31. Problem : Array intersection"
   ]
  },
  {
   "cell_type": "raw",
   "metadata": {},
   "source": [
    "Given two random integer arrays of size m and n, print their intersection. That is, print all the elements that are present in both the given arrays.\n",
    "Input arrays can contain duplicate elements.\n",
    "\n",
    "Note : Order of elements are not important\n",
    "\n",
    "Input format : Line 1 : Array 1 Size\n",
    "               Line 2 : Array 1 elements (separated by space)\n",
    "               Line 3 : Array 2 Size\n",
    "               Line 4 : Array 2 elements (separated by space)\n",
    "Output format : Print intersection elements in different lines\n",
    "Constraints : 1 <= m, n <= 10^3\n",
    "\n",
    "Sample Input 1 :\n",
    "6\n",
    "2 6 8 5 4 3\n",
    "4\n",
    "2 3 4 7 \n",
    "\n",
    "Sample Output 1 :\n",
    "2 \n",
    "4 \n",
    "3\n",
    "\n",
    "Sample Input 2 :\n",
    "4\n",
    "2 6 1 2\n",
    "5\n",
    "1 2 3 4 2\n",
    "\n",
    "Sample Output 2 :\n",
    "2 \n",
    "2\n",
    "1"
   ]
  },
  {
   "cell_type": "markdown",
   "metadata": {},
   "source": [
    "### Python Code"
   ]
  },
  {
   "cell_type": "code",
   "execution_count": 7,
   "metadata": {},
   "outputs": [
    {
     "name": "stdout",
     "output_type": "stream",
     "text": [
      "4\n",
      "2 6 1 2\n",
      "5\n",
      "1 2 3 4 2\n",
      "2\n",
      "2\n",
      "1\n"
     ]
    }
   ],
   "source": [
    "n1=int(input())\n",
    "list1=[int(x) for x in input().split()]\n",
    "n2=int(input())\n",
    "list2=[int(y) for y in input().split()]\n",
    "\n",
    "for i in range(n1):\n",
    "    for j in range(n2):\n",
    "        if list1[i] == list2[j]:\n",
    "            print(list2[j])\n",
    "            list2[j]=-987654321"
   ]
  },
  {
   "cell_type": "markdown",
   "metadata": {},
   "source": [
    "# 33. Problem : Pair Sum"
   ]
  },
  {
   "cell_type": "raw",
   "metadata": {},
   "source": [
    "Given a random integer array A and a number x. Find and print the pair of elements in the array which sum to x.\n",
    "Array A can contain duplicate elements.\n",
    "While printing a pair, print the smaller element first.\n",
    "That is, if a valid pair is (6, 5) print \"5 6\". There is no constraint that out of 5 pairs which have to be printed in 1st line. You can print pairs in any order, just be careful about the order of elements in a pair.\n",
    "\n",
    "Input format : Line 1 : Integer N (Array size)\n",
    "               Line 2 : Array elements (separated by space)\n",
    "               Line 3 : Integer x\n",
    "Output format : Line 1 : Pair 1 elements (separated by space)\n",
    "                Line 2 : Pair 2 elements (separated by space)\n",
    "                Line 3 : and so on\n",
    "Constraints : 1 <= N <= 1000\n",
    "              1 <= x <= 100\n",
    "Sample Input:\n",
    "9\n",
    "1 3 6 2 5 4 3 2 4\n",
    "7\n",
    "\n",
    "Sample Output :\n",
    "1 6\n",
    "3 4\n",
    "3 4\n",
    "2 5\n",
    "2 5\n",
    "3 4\n",
    "3 4"
   ]
  },
  {
   "cell_type": "markdown",
   "metadata": {},
   "source": [
    "### Python Code"
   ]
  },
  {
   "cell_type": "code",
   "execution_count": 16,
   "metadata": {},
   "outputs": [
    {
     "name": "stdout",
     "output_type": "stream",
     "text": [
      "9\n",
      "1 3 6 2 5 4 3 2 4\n",
      "7\n",
      "1 \t 6\n",
      "3 \t 4\n",
      "3 \t 4\n",
      "2 \t 5\n",
      "2 \t 5\n",
      "3 \t 4\n",
      "3 \t 4\n"
     ]
    }
   ],
   "source": [
    "n = int(input())\n",
    "li = [int(x) for x in input().strip().split()]\n",
    "x = int(input())\n",
    "\n",
    "for i in range(n):\n",
    "    for j in range(i+1, n):\n",
    "        if li[i] + li[j] == x:\n",
    "            if li[i] >= li[j]:\n",
    "                print(li[j], \"\\t\", li[i])\n",
    "            else:\n",
    "                print(li[i], \"\\t\", li[j])"
   ]
  },
  {
   "cell_type": "markdown",
   "metadata": {},
   "source": [
    "# 35. Problem : Triplet Sum"
   ]
  },
  {
   "cell_type": "raw",
   "metadata": {},
   "source": [
    "Given a random integer array and a number x. Find and print the triplets of elements in the array which sum to x.\n",
    "While printing a triplet, print the smallest element first.\n",
    "That is, if a valid triplet is (6, 5, 10) print \"5 6 10\". There is no constraint that out of 5 triplets which have to be printed on 1st line. You can print triplets in any order, just be careful about the order of elements in a triplet.\n",
    "\n",
    "Input format : Line 1 : Integer N (Array Size)\n",
    "               Line 2 : Array elements (separated by space)\n",
    "               Line 3 : Integer x\n",
    "Output format : Line 1 : Triplet 1 elements (separated by space)\n",
    "                Line 2 : Triplet 3 elements (separated by space)\n",
    "                Line 3 : and so on\n",
    "Constraints : 1 <= N <= 1000\n",
    "              1 <= x <= 100\n",
    "Sample Input:\n",
    "7\n",
    "1 2 3 4 5 6 7 \n",
    "12\n",
    "\n",
    "Sample Output ;\n",
    "1 4 7\n",
    "1 5 6\n",
    "2 3 7\n",
    "2 4 6\n",
    "3 4 5"
   ]
  },
  {
   "cell_type": "markdown",
   "metadata": {},
   "source": [
    "### Python Code"
   ]
  },
  {
   "cell_type": "code",
   "execution_count": 19,
   "metadata": {},
   "outputs": [
    {
     "name": "stdout",
     "output_type": "stream",
     "text": [
      "7\n",
      "1 2 3 4 5 6 7\n",
      "12\n",
      "1 4 7\n",
      "1 5 6\n",
      "2 3 7\n",
      "2 4 6\n",
      "3 4 5\n"
     ]
    }
   ],
   "source": [
    "n = int(input())\n",
    "li = [int(x) for x in input().strip().split()]\n",
    "x = int(input())\n",
    "\n",
    "def printOrder(i, j, k):\n",
    "    if i <= j and i <= k:\n",
    "        if j <= k:\n",
    "            print(i, j, k , sep = \" \")\n",
    "        else:\n",
    "            print(i, k, j , sep = \" \")\n",
    "            \n",
    "    elif(j <= i and j <= k):\n",
    "        if i <= k:\n",
    "            print(j, i, k, sep = \" \")\n",
    "        else:\n",
    "            print(j, k, i, sep = \" \")\n",
    "            \n",
    "    else:\n",
    "        if i <= j:\n",
    "            print(k, i, j, sep = \" \")\n",
    "        else:\n",
    "            print(k, j, i, sep = \" \")\n",
    "\n",
    "for i in range(n):\n",
    "    for j in range(i+1, n):\n",
    "        for k in range(j+1, n):\n",
    "            if li[i] + li[j] + li[k] == x:\n",
    "                printOrder(li[i], li[j], li[k])\n"
   ]
  },
  {
   "cell_type": "markdown",
   "metadata": {},
   "source": [
    "# 36. Problem : Sort 0 1"
   ]
  },
  {
   "cell_type": "raw",
   "metadata": {},
   "source": [
    "You are given an integer array A that contains only integers 0 and 1. Write a function to sort this array. Find a solution which scans the array only once. Don't use extra array.\n",
    "You need to change in the given array itself. So no need to return or print anything.\n",
    "\n",
    "Input format : Line 1 : Integer N (Array Size)\n",
    "               Line 2 : Array elements (separated by space)\n",
    "Output format : Sorted array elements\n",
    "Constraints : 1 <= N <= 10^6\n",
    "\n",
    "Sample Input :\n",
    "7\n",
    "0 1 1 0 1 0 1\n",
    "\n",
    "Sample Output :\n",
    "0 0 0 1 1 1 1"
   ]
  },
  {
   "cell_type": "markdown",
   "metadata": {},
   "source": [
    "### Python Code"
   ]
  },
  {
   "cell_type": "code",
   "execution_count": 7,
   "metadata": {},
   "outputs": [
    {
     "name": "stdout",
     "output_type": "stream",
     "text": [
      "7\n",
      "0 1 1 0 1 0 1\n",
      "0 0 0 1 1 1 1\n"
     ]
    }
   ],
   "source": [
    "n = int(input())\n",
    "li = [int(x) for x in input().split()]\n",
    "\n",
    "def arrange(li):\n",
    "    i = 0\n",
    "    j = n - 1\n",
    "    while i < j:\n",
    "        if li[i] == 0:\n",
    "            i = i + 1\n",
    "        else:\n",
    "            if li[j] == 1:\n",
    "                j = j - 1\n",
    "            else:\n",
    "                li[i], li[j] = li[j], li[i]\n",
    "    return li\n",
    "x = arrange(li)\n",
    "print(*x)"
   ]
  }
 ],
 "metadata": {
  "kernelspec": {
   "display_name": "Python 3",
   "language": "python",
   "name": "python3"
  },
  "language_info": {
   "codemirror_mode": {
    "name": "ipython",
    "version": 3
   },
   "file_extension": ".py",
   "mimetype": "text/x-python",
   "name": "python",
   "nbconvert_exporter": "python",
   "pygments_lexer": "ipython3",
   "version": "3.7.3"
  }
 },
 "nbformat": 4,
 "nbformat_minor": 2
}
