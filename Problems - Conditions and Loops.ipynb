{
 "cells": [
  {
   "cell_type": "markdown",
   "metadata": {},
   "source": [
    "# 09. Problem : Check number"
   ]
  },
  {
   "cell_type": "raw",
   "metadata": {},
   "source": [
    "Given an integer n, find if n is positive, negative or 0.\n",
    "If n is positive, print \"Positive\"\n",
    "If n is negative, print \"Negative\"\n",
    "And if n is equal to 0, print \"Zero\".\n",
    "\n",
    "Input Format : Integer n\n",
    "Output Format : \"Positive\" or \"Negative\" or \"Zero\" (without double quotes)\n",
    "Constraints : 1 <= n <= 100\n",
    "\n",
    "Sample Input 1 :\n",
    "10\n",
    "\n",
    "Sample Output 1 :\n",
    "Positive\n",
    "\n",
    "Sample Input 2 :\n",
    "-10\n",
    "\n",
    "Sample Output 2 :\n",
    "Negative"
   ]
  },
  {
   "cell_type": "markdown",
   "metadata": {},
   "source": [
    "### Python Code"
   ]
  },
  {
   "cell_type": "code",
   "execution_count": 16,
   "metadata": {},
   "outputs": [
    {
     "name": "stdout",
     "output_type": "stream",
     "text": [
      "5\n",
      "Positive\n"
     ]
    }
   ],
   "source": [
    "n = int(input())\n",
    "\n",
    "if n > 0:\n",
    "    print(\"Positive\")\n",
    "elif n < 0:\n",
    "    print(\"Negative\")\n",
    "else:\n",
    "    print(\"Zero\")"
   ]
  },
  {
   "cell_type": "markdown",
   "metadata": {},
   "source": [
    "### C++ Code"
   ]
  },
  {
   "cell_type": "raw",
   "metadata": {},
   "source": [
    "#include<iostream>\n",
    "using namespace std;\n",
    "\n",
    "int main(){\n",
    "    int n;\n",
    "    cin>> n;\n",
    "    \n",
    "    if(n>0){\n",
    "        cout<< \"Positive\"<<endl;\n",
    "    }\n",
    "    else if(n<0){\n",
    "        cout<<\"Negative\"<<endl;\n",
    "    }\n",
    "    else{\n",
    "        cout<<\"Zero\"<<endl;\n",
    "    }\n",
    "}"
   ]
  },
  {
   "cell_type": "markdown",
   "metadata": {},
   "source": [
    "# Problem : Check if Number is Even or Odd"
   ]
  },
  {
   "cell_type": "code",
   "execution_count": 4,
   "metadata": {},
   "outputs": [
    {
     "name": "stdout",
     "output_type": "stream",
     "text": [
      "5\n",
      "Odd\n"
     ]
    }
   ],
   "source": [
    "n = int(input())\n",
    "\n",
    "if n % 2 == 0:\n",
    "    print('Even')\n",
    "else:\n",
    "    print('Odd')"
   ]
  },
  {
   "cell_type": "markdown",
   "metadata": {},
   "source": [
    "# Problem : Find Highest of 3 Numbers"
   ]
  },
  {
   "cell_type": "code",
   "execution_count": 5,
   "metadata": {},
   "outputs": [
    {
     "name": "stdout",
     "output_type": "stream",
     "text": [
      "10\n",
      "6\n",
      "13\n",
      "13\n"
     ]
    }
   ],
   "source": [
    "a = int(input())\n",
    "b = int(input())\n",
    "c = int(input())\n",
    "\n",
    "if a >= b and a >= c:\n",
    "    print(a)\n",
    "elif b >= a and b >= c:\n",
    "    print(b)\n",
    "else:\n",
    "    print(c)"
   ]
  },
  {
   "cell_type": "markdown",
   "metadata": {},
   "source": [
    "# Problem : Print First N Natural Numbers"
   ]
  },
  {
   "cell_type": "code",
   "execution_count": 6,
   "metadata": {},
   "outputs": [
    {
     "name": "stdout",
     "output_type": "stream",
     "text": [
      "5\n",
      "1\n",
      "2\n",
      "3\n",
      "4\n",
      "5\n"
     ]
    }
   ],
   "source": [
    "n = int(input())\n",
    "\n",
    "number = 1\n",
    "while number <= n:\n",
    "    print(number)\n",
    "    number += 1"
   ]
  },
  {
   "cell_type": "markdown",
   "metadata": {},
   "source": [
    "# 14. Problem : Sum of n numbers"
   ]
  },
  {
   "cell_type": "raw",
   "metadata": {},
   "source": [
    "Given an integer n, find and print the sum of numbers from 1 to n.\n",
    "Note : Use while loop only.\n",
    "\n",
    "Input Format : Integer n\n",
    "Output Format : Sum\n",
    "Constraints : 1 <= n <= 100\n",
    "\n",
    "Sample Input :\n",
    "10\n",
    "\n",
    "Sample Output :\n",
    "55"
   ]
  },
  {
   "cell_type": "markdown",
   "metadata": {},
   "source": [
    "### Python Code"
   ]
  },
  {
   "cell_type": "code",
   "execution_count": 6,
   "metadata": {},
   "outputs": [
    {
     "name": "stdout",
     "output_type": "stream",
     "text": [
      "Enter value of n : 10\n",
      "Sum is :  55\n"
     ]
    }
   ],
   "source": [
    "n = int(input(\"Enter value of n : \"))\n",
    "\n",
    "sum = 0\n",
    "i = 1\n",
    "while i <= n:\n",
    "    sum += i\n",
    "    i += 1\n",
    "print(\"Sum is : \", sum)"
   ]
  },
  {
   "cell_type": "markdown",
   "metadata": {},
   "source": [
    "### C++ Code"
   ]
  },
  {
   "cell_type": "raw",
   "metadata": {},
   "source": [
    "#include<iostream>\n",
    "using namespace std;\n",
    "\n",
    "int main() {\n",
    "    int sum = 0, i = 1;\n",
    "    int n;\n",
    "    \n",
    "    cin>>n;\n",
    "    \n",
    "    while (i<=n){\n",
    "        sum = sum + i;\n",
    "        i = i + 1;\n",
    "    }\n",
    "    cout<<sum<<endl;\n",
    "}"
   ]
  },
  {
   "cell_type": "markdown",
   "metadata": {},
   "source": [
    "# 15. Problem : Sum of Even Numbers"
   ]
  },
  {
   "cell_type": "raw",
   "metadata": {},
   "source": [
    "Given a number N, print sum of all even numbers from 1 to N.\n",
    "\n",
    "Input Format : Integer N\n",
    "Output Format : Required Sum \n",
    "\n",
    "Sample Input 1 :\n",
    "6\n",
    "\n",
    "Sample Output 1 :\n",
    "12"
   ]
  },
  {
   "cell_type": "markdown",
   "metadata": {},
   "source": [
    "### Python Code"
   ]
  },
  {
   "cell_type": "code",
   "execution_count": 10,
   "metadata": {},
   "outputs": [
    {
     "name": "stdout",
     "output_type": "stream",
     "text": [
      "Enter value of n : 10\n",
      "Sum is :  30\n"
     ]
    }
   ],
   "source": [
    "n = int(input(\"Enter value of n : \"))\n",
    "\n",
    "sum = 0\n",
    "while n>0:\n",
    "    if n%2 == 0:\n",
    "        sum += n\n",
    "        n -= 1\n",
    "    else:\n",
    "        n -= 1\n",
    "print(\"Sum is : \", sum)"
   ]
  },
  {
   "cell_type": "markdown",
   "metadata": {},
   "source": [
    "### C++ Code"
   ]
  },
  {
   "cell_type": "raw",
   "metadata": {},
   "source": [
    "#include<iostream>\n",
    "using namespace std;\n",
    "\n",
    "int main() {\n",
    "    int sum = 0;\n",
    "    int n;\n",
    "    \n",
    "    cin>>n;\n",
    "    \n",
    "    while (n > 0){\n",
    "        if (n % 2 == 0){\n",
    "            sum = sum + n;\n",
    "            n -= 1;\n",
    "        }\n",
    "        else{\n",
    "            n = n - 1;\n",
    "        }\n",
    "    }\n",
    "    cout<<sum<<endl;\n",
    "}"
   ]
  },
  {
   "cell_type": "markdown",
   "metadata": {},
   "source": [
    "# Problem : Primality Check"
   ]
  },
  {
   "cell_type": "code",
   "execution_count": 17,
   "metadata": {},
   "outputs": [
    {
     "name": "stdout",
     "output_type": "stream",
     "text": [
      "5\n",
      "prime\n"
     ]
    }
   ],
   "source": [
    "n = int(input())\n",
    "\n",
    "d = 2\n",
    "flag = False\n",
    "while d < n:\n",
    "    if n % d == 0:\n",
    "        flag = True\n",
    "    d += 1\n",
    "if flag:\n",
    "    print('Not prime')\n",
    "else:\n",
    "    print('prime')\n",
    "        "
   ]
  },
  {
   "cell_type": "markdown",
   "metadata": {},
   "source": [
    "# Problem : Print all prime numbers till n"
   ]
  },
  {
   "cell_type": "code",
   "execution_count": 18,
   "metadata": {},
   "outputs": [
    {
     "name": "stdout",
     "output_type": "stream",
     "text": [
      "15\n",
      "2 3 5 7 11 13 "
     ]
    }
   ],
   "source": [
    "n = int(input())\n",
    "\n",
    "k = 2\n",
    "while k <= n:\n",
    "    d = 2\n",
    "    flag = False\n",
    "    while d < k:\n",
    "        if k % d == 0:\n",
    "            flag = True\n",
    "        d += 1\n",
    "    if flag == False:\n",
    "        print(k, end = ' ')\n",
    "    k += 1"
   ]
  },
  {
   "cell_type": "markdown",
   "metadata": {},
   "source": [
    "# 21. Problem : Fahrenheit to Celsius"
   ]
  },
  {
   "cell_type": "raw",
   "metadata": {},
   "source": [
    "Given three values - Start Fahrenheit Value (S), End Fahrenheit value (E) and Step Size (W), you need to convert all Fahrenheit values from Start to End at the gap of W, into their corresponding Celsius values and print the table.\n",
    "\n",
    "Input Format : 3 integers - S, E and W respectively \n",
    "Output Format : Fahrenheit to Celsius conversion table. One line for every Fahrenheit and corresponding Celsius value. On Fahrenheit value and its corresponding Celsius value should be separate by tab (\"\\t\")\n",
    "\n",
    "Sample Input :\n",
    "0 \n",
    "100 \n",
    "20\n",
    "\n",
    "Sample Output :\n",
    "0   -17\n",
    "20  -6\n",
    "40  4\n",
    "60  15\n",
    "80  26\n",
    "100 37"
   ]
  },
  {
   "cell_type": "markdown",
   "metadata": {},
   "source": [
    "### Python Code"
   ]
  },
  {
   "cell_type": "code",
   "execution_count": 14,
   "metadata": {},
   "outputs": [
    {
     "name": "stdout",
     "output_type": "stream",
     "text": [
      "0\n",
      "100\n",
      "20\n",
      "0 \t -17\n",
      "20 \t -6\n",
      "40 \t 4\n",
      "60 \t 15\n",
      "80 \t 26\n",
      "100 \t 37\n"
     ]
    }
   ],
   "source": [
    "sf = int(input())\n",
    "ef = int(input())\n",
    "step = int(input())\n",
    "\n",
    "while sf <= ef:\n",
    "    celcius = int((sf-32)*5/9)\n",
    "    print(sf, \"\\t\", celcius)\n",
    "    sf += step"
   ]
  },
  {
   "cell_type": "markdown",
   "metadata": {},
   "source": [
    "### C++ Code"
   ]
  },
  {
   "cell_type": "raw",
   "metadata": {},
   "source": [
    "#include<iostream>\n",
    "using namespace std;\n",
    "\n",
    "int main(){\n",
    "    int sf, ef, step;\n",
    "    cin>>sf>>ef>>step;\n",
    "    \n",
    "    while (sf <= ef){\n",
    "        int celcius = (int) (sf - 32)*5/9;\n",
    "        cout<<sf<<\"\\t\"<<celcius<<endl;\n",
    "        sf = sf + step;\n",
    "    }\n",
    "}"
   ]
  },
  {
   "cell_type": "markdown",
   "metadata": {},
   "source": [
    "# 22. Problem : Calculator"
   ]
  },
  {
   "cell_type": "raw",
   "metadata": {},
   "source": [
    "Write a program that works as a simple calculator. It reads an integer for choice.\n",
    "1. If the choice is 1, 2 integers are taken for input and their sum is printed.\n",
    "2. If the choice is 2, 2 integers are taken for input and their difference is printed.\n",
    "3. If  the choice is 3, 2 integers are taken for input and their product is printed.\n",
    "4. If  the choice is 4, 2 integers are taken for input and their quotient is printed.\n",
    "5. If  the choice is 5, 2 integers are taken for input and their remainder is printed.\n",
    "6. If the choice is 6, the program exits, \n",
    "For any other choice, print \"Invalid Operation\" and ask for choice again.\n",
    "\n",
    "Note: Each answer in next line.\n",
    "\n",
    "Input format: Take integers as input, in accordance to the description of the question. \n",
    "Constraints: Time Limit: 1 second\n",
    "Output format: The output lines must be as prescribed in the description of the question.\n",
    "\n",
    "Sample Input:\n",
    "3\n",
    "1\n",
    "2\n",
    "4\n",
    "4\n",
    "2\n",
    "1\n",
    "3\n",
    "2\n",
    "7\n",
    "6\n",
    "\n",
    "Sample Output:\n",
    "2\n",
    "2\n",
    "5\n",
    "Invalid Operation"
   ]
  },
  {
   "cell_type": "markdown",
   "metadata": {},
   "source": [
    "### Python Code"
   ]
  },
  {
   "cell_type": "code",
   "execution_count": 20,
   "metadata": {},
   "outputs": [
    {
     "name": "stdout",
     "output_type": "stream",
     "text": [
      "3\n",
      "1\n",
      "2\n",
      "2\n",
      "4\n",
      "4\n",
      "4\n",
      "1\n",
      "1\n",
      "3\n",
      "2\n",
      "5\n",
      "7\n",
      "Invalid Operation\n",
      "6\n"
     ]
    }
   ],
   "source": [
    "c = int(input())\n",
    "\n",
    "while c != 6:\n",
    "    if c >=1 and c <= 5:\n",
    "        a = int(input())\n",
    "        b = int(input())\n",
    "    if c == 1:\n",
    "        print(a + b)\n",
    "    elif c == 2:\n",
    "        print(a - b)\n",
    "    elif c == 3:\n",
    "        print(a * b)\n",
    "    elif c == 4:\n",
    "        print(a // b)\n",
    "    elif c == 5:\n",
    "        print(a%b)\n",
    "    elif c < 1 or c > 6:\n",
    "        print(\"Invalid Operation\")\n",
    "    c = int(input())"
   ]
  },
  {
   "cell_type": "markdown",
   "metadata": {},
   "source": [
    "### C++ Code"
   ]
  },
  {
   "cell_type": "raw",
   "metadata": {},
   "source": [
    "#include<iostream>\n",
    "using namespace std;\n",
    "\n",
    "int main(){\n",
    "    int a,b,c;\n",
    "    \n",
    "    cin>>c;\n",
    "    cout<<endl;\n",
    "    while (c != 6){\n",
    "        if (c<=5 and c>=1){\n",
    "            cin>>a>>b;\n",
    "        }\n",
    "        if (c == 1){\n",
    "            cout<<a+b<<endl;\n",
    "        }\n",
    "        if (c == 2){\n",
    "            cout<<a-b<<endl;\n",
    "        }\n",
    "        if (c == 3){\n",
    "            cout<<a*b<<endl;\n",
    "        }\n",
    "        if (c == 4){\n",
    "            cout<<a/b<<endl;\n",
    "        }\n",
    "        if (c == 5){\n",
    "            cout<<a%b<<endl;\n",
    "        }\n",
    "        else if (c <1 or c > 6){\n",
    "            cout<<\"Invalid Operation\"<<endl;\n",
    "        }\n",
    "        cin>>c;\n",
    "    }\n",
    "}"
   ]
  },
  {
   "cell_type": "markdown",
   "metadata": {},
   "source": [
    "# 23. Problem : Reverse of a number"
   ]
  },
  {
   "cell_type": "raw",
   "metadata": {},
   "source": [
    "Write a program to generate the reverse of a given number N. Print the corresponding reverse number.\n",
    "\n",
    "Input format : Integer N\n",
    "Constraints: Time Limit: 1 second\n",
    "Output format : Corresponding reverse number\n",
    "\n",
    "Sample Input 1 :\n",
    "1234\n",
    "\n",
    "Sample Output 1 :\n",
    "4321\n",
    "\n",
    "Sample Input 2 :\n",
    "1980\n",
    "\n",
    "Sample Output 2 :\n",
    "891"
   ]
  },
  {
   "cell_type": "markdown",
   "metadata": {},
   "source": [
    "### Python Code"
   ]
  },
  {
   "cell_type": "code",
   "execution_count": 1,
   "metadata": {},
   "outputs": [
    {
     "name": "stdout",
     "output_type": "stream",
     "text": [
      "1234\n",
      "4321\n"
     ]
    }
   ],
   "source": [
    "n=int(input())\n",
    "\n",
    "reverse = 0\n",
    "while n != 0:\n",
    "    ls = n // 10    # Least significant digits\n",
    "    ms = n % 10     # Most significant digit\n",
    "    n = ls\n",
    "    reverse = (reverse * 10) + ms\n",
    "print(reverse)"
   ]
  },
  {
   "cell_type": "markdown",
   "metadata": {},
   "source": [
    "### C++ Code"
   ]
  },
  {
   "cell_type": "raw",
   "metadata": {},
   "source": [
    "#include<iostream>\n",
    "using namespace std;\n",
    "\n",
    "int main(){\n",
    "    int ls, ms, n, reverse = 0;\n",
    "    cin>>n;\n",
    "    \n",
    "    while (n != 0){\n",
    "        ls = n/10;\n",
    "        ms = n%10;\n",
    "        n = ls;\n",
    "        reverse = (reverse * 10) + ms;\n",
    "    }\n",
    "    cout<<reverse<<endl;\n",
    "}"
   ]
  },
  {
   "cell_type": "markdown",
   "metadata": {},
   "source": [
    "# 25. Problem : Palindrome number"
   ]
  },
  {
   "cell_type": "raw",
   "metadata": {},
   "source": [
    "Write a program to determine if given number is palindrome or not. Print true if it is palindrome, false otherwise.\n",
    "Palindrome are the numbers for which reverse is exactly same as the original one. For eg. 121\n",
    "\n",
    "Sample Input 1 :\n",
    "121\n",
    "\n",
    "Sample Output 1 :\n",
    "true\n",
    "\n",
    "Sample Input 2 :\n",
    "1032\n",
    "\n",
    "Sample Output 2 :\n",
    "false"
   ]
  },
  {
   "cell_type": "markdown",
   "metadata": {},
   "source": [
    "### Python Code"
   ]
  },
  {
   "cell_type": "code",
   "execution_count": 23,
   "metadata": {},
   "outputs": [
    {
     "name": "stdout",
     "output_type": "stream",
     "text": [
      "1234321\n",
      "true\n"
     ]
    }
   ],
   "source": [
    "n=int(input())\n",
    "\n",
    "real = n\n",
    "reverse=0\n",
    "while n!=0:\n",
    "    ls= n // 10\n",
    "    ms= n % 10\n",
    "    n = ls\n",
    "    reverse=(reverse*10)+ ms\n",
    "palindrome = (real == reverse)\n",
    "if palindrome:\n",
    "    print(\"true\")\n",
    "else:\n",
    "    print(\"false\")"
   ]
  },
  {
   "cell_type": "markdown",
   "metadata": {},
   "source": [
    "# 26. Problem : Sum of even & odd"
   ]
  },
  {
   "cell_type": "raw",
   "metadata": {},
   "source": [
    "Write a program to input an integer N and print the sum of all its even digits and sum of all its odd digits separately.\n",
    "Digits means numbers not the places. That is, if the given integer is \"13245\", even digits are 2 & 4 and odd digits are 1, 3 & 5.\n",
    "\n",
    "Input format : Integer N\n",
    "Output format : Sum_of_Even_Digits Sum_of_Odd_Digits (Print first even sum and then odd sum separated by space)\n",
    "\n",
    "Sample Input :\n",
    "1234\n",
    "\n",
    "Sample Output :\n",
    "6 4"
   ]
  },
  {
   "cell_type": "markdown",
   "metadata": {},
   "source": [
    "### Python Code"
   ]
  },
  {
   "cell_type": "code",
   "execution_count": 24,
   "metadata": {},
   "outputs": [
    {
     "name": "stdout",
     "output_type": "stream",
     "text": [
      "12345678\n",
      "20   16\n"
     ]
    }
   ],
   "source": [
    "n=int(input())\n",
    "\n",
    "even_sum = 0\n",
    "odd_sum = 0\n",
    "while n != 0:\n",
    "    ms = n // 10\n",
    "    ls = n % 10\n",
    "    n = ms\n",
    "    if ls %2 == 0:\n",
    "        even_sum = even_sum + ls\n",
    "    else:\n",
    "        odd_sum = odd_sum + ls\n",
    "print(even_sum, \" \", odd_sum)"
   ]
  },
  {
   "cell_type": "markdown",
   "metadata": {},
   "source": [
    "# 28. Problem : Nth Fibonacci number"
   ]
  },
  {
   "cell_type": "raw",
   "metadata": {},
   "source": [
    "Nth term of fibonacci series F(n) is calculated using following formula -\n",
    "    F(n) = F(n-1) + F(n-2), \n",
    "Provided N you have to find out the Nth Fibonacci Number. Also F(1) = F(2) = 1.\n",
    "\n",
    "Input Format : Integer n\n",
    "Constraints: Time Limit: 1 second\n",
    "Output Format : Nth Fibonacci term i.e. F(n)\n",
    "    \n",
    "Sample Input :\n",
    "4\n",
    "\n",
    "Sample Output :\n",
    "3"
   ]
  },
  {
   "cell_type": "markdown",
   "metadata": {},
   "source": [
    "### Python code"
   ]
  },
  {
   "cell_type": "code",
   "execution_count": 34,
   "metadata": {},
   "outputs": [
    {
     "name": "stdout",
     "output_type": "stream",
     "text": [
      "10\n",
      "55\n"
     ]
    }
   ],
   "source": [
    "n=int(input())\n",
    "\n",
    "n1 = 1\n",
    "n2 = 1\n",
    "if n == 1:\n",
    "    print(n1)\n",
    "elif n == 2:\n",
    "    print(n2)\n",
    "elif n >= 3:\n",
    "    count = 3\n",
    "    while count <= n:\n",
    "        fn = n1 + n2\n",
    "        if count == n:\n",
    "            print(fn)\n",
    "        n1 = n2\n",
    "        n2 = fn\n",
    "        count = count + 1"
   ]
  }
 ],
 "metadata": {
  "kernelspec": {
   "display_name": "Python 3",
   "language": "python",
   "name": "python3"
  },
  "language_info": {
   "codemirror_mode": {
    "name": "ipython",
    "version": 3
   },
   "file_extension": ".py",
   "mimetype": "text/x-python",
   "name": "python",
   "nbconvert_exporter": "python",
   "pygments_lexer": "ipython3",
   "version": "3.7.3"
  }
 },
 "nbformat": 4,
 "nbformat_minor": 2
}
