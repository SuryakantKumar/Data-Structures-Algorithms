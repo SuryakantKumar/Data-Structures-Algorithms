{
 "cells": [
  {
   "cell_type": "markdown",
   "metadata": {},
   "source": [
    "# 01. Problem : Geometric Sum"
   ]
  },
  {
   "cell_type": "raw",
   "metadata": {},
   "source": [
    "Given k, find the geometric sum i.e. 1 + 1/2 + 1/4 + 1/8 + ... + 1/(2^k) using recursion. Return the answer.\n",
    "\n",
    "Sample Input :\n",
    "3\n",
    "\n",
    "Sample Output :\n",
    "1.875"
   ]
  },
  {
   "cell_type": "markdown",
   "metadata": {},
   "source": [
    "### Python Code"
   ]
  },
  {
   "cell_type": "code",
   "execution_count": 8,
   "metadata": {},
   "outputs": [
    {
     "name": "stdout",
     "output_type": "stream",
     "text": [
      "3\n",
      "1.875\n"
     ]
    }
   ],
   "source": [
    "k = int(input())\n",
    "\n",
    "def GeometricSum(k):\n",
    "    if k == 0:\n",
    "        return 1\n",
    "    \n",
    "    return 1/(2**k) + GeometricSum(k-1)\n",
    "\n",
    "result = GeometricSum(k)\n",
    "print(\"%.3f\" %result)"
   ]
  },
  {
   "cell_type": "markdown",
   "metadata": {},
   "source": [
    "# 03. Problem : Check Palindrome"
   ]
  },
  {
   "cell_type": "raw",
   "metadata": {},
   "source": [
    "Check if a given String S is palindrome or not (using recursion). Return true or false.\n",
    "\n",
    "Input Format : String S\n",
    "\n",
    "Output Format : true or false\n",
    "\n",
    "Sample Input 1 :\n",
    "racecar\n",
    "\n",
    "Sample Output 1:\n",
    "true\n",
    "\n",
    "Sample Input 2 :\n",
    "ninja\n",
    "\n",
    "Sample Output 2:\n",
    "false"
   ]
  },
  {
   "cell_type": "markdown",
   "metadata": {},
   "source": [
    "### Python Code"
   ]
  },
  {
   "cell_type": "code",
   "execution_count": 30,
   "metadata": {},
   "outputs": [
    {
     "name": "stdout",
     "output_type": "stream",
     "text": [
      "12321\n",
      "true\n"
     ]
    }
   ],
   "source": [
    "def CheckPalindrome(s):\n",
    "    length = len(s)\n",
    "    \n",
    "    if length <= 1:\n",
    "        return True\n",
    "    \n",
    "    if s[0] != s[-1]:\n",
    "        return False\n",
    "    \n",
    "    return CheckPalindrome(s[1:-1])\n",
    "    \n",
    "s = input()\n",
    "result = CheckPalindrome(s)\n",
    "if result:\n",
    "    print('true')\n",
    "else:\n",
    "    print('false')"
   ]
  },
  {
   "cell_type": "markdown",
   "metadata": {},
   "source": [
    "# 05. Problem : Sum of digits"
   ]
  },
  {
   "cell_type": "raw",
   "metadata": {},
   "source": [
    "Write a recursive function that returns the sum of the digits of a given integer.\n",
    "\n",
    "Sample Input :\n",
    "12345\n",
    "\n",
    "Sample Output :\n",
    "15"
   ]
  },
  {
   "cell_type": "markdown",
   "metadata": {},
   "source": [
    "### Python Code"
   ]
  },
  {
   "cell_type": "code",
   "execution_count": 32,
   "metadata": {},
   "outputs": [
    {
     "name": "stdout",
     "output_type": "stream",
     "text": [
      "12345\n",
      "15\n"
     ]
    }
   ],
   "source": [
    "n = int(input())\n",
    "\n",
    "def SumOfDigits(n):\n",
    "    if n == 0:\n",
    "        return 0\n",
    "    \n",
    "    return (n%10) + SumOfDigits(n//10)\n",
    "\n",
    "result = SumOfDigits(n)\n",
    "print(result)"
   ]
  },
  {
   "cell_type": "markdown",
   "metadata": {},
   "source": [
    "# 06. Problem : Multiplication"
   ]
  },
  {
   "cell_type": "raw",
   "metadata": {},
   "source": [
    "Given two integers m & n, calculate and return their multiplication using recursion. \n",
    "You can only use subtraction and addition for your calculation. No other operators are allowed.\n",
    "\n",
    "Input format : m and n (in different lines)\n",
    "\n",
    "Sample Input :\n",
    "3 \n",
    "5\n",
    "\n",
    "Sample Output -\n",
    "15"
   ]
  },
  {
   "cell_type": "markdown",
   "metadata": {},
   "source": [
    "### Python Code"
   ]
  },
  {
   "cell_type": "code",
   "execution_count": 42,
   "metadata": {},
   "outputs": [
    {
     "name": "stdout",
     "output_type": "stream",
     "text": [
      "3\n",
      "5\n",
      "15\n"
     ]
    }
   ],
   "source": [
    "def Multiplication(m, n):\n",
    "    if m == 0 or n == 0:\n",
    "        return 0\n",
    "    elif m == 1:\n",
    "        return n\n",
    "    elif n == 1:\n",
    "        return m\n",
    "    \n",
    "    return m + Multiplication(m, n-1)\n",
    "\n",
    "m = int(input())\n",
    "n = int(input())\n",
    "result = Multiplication(m, n)\n",
    "print(result)"
   ]
  },
  {
   "cell_type": "markdown",
   "metadata": {},
   "source": [
    "# 08. Problem : Count Zero"
   ]
  },
  {
   "cell_type": "raw",
   "metadata": {},
   "source": [
    "Given an integer n, count and return the number of zeros that are present in the given integer using recursion.\n",
    "\n",
    "Input Format : Integer n\n",
    "\n",
    "Output Format : No. of 0s\n",
    "\n",
    "Sample Input :\n",
    "10204\n",
    "\n",
    "Sample Output\n",
    "2"
   ]
  },
  {
   "cell_type": "markdown",
   "metadata": {},
   "source": [
    "### Python code"
   ]
  },
  {
   "cell_type": "code",
   "execution_count": 49,
   "metadata": {},
   "outputs": [
    {
     "name": "stdout",
     "output_type": "stream",
     "text": [
      "1002093\n",
      "3\n"
     ]
    }
   ],
   "source": [
    "def CountZero(n):\n",
    "    if n == 0:\n",
    "        return 0\n",
    "    \n",
    "    if n % 10 == 0:\n",
    "        return 1+ CountZero(n // 10)\n",
    "    else:\n",
    "        return CountZero(n // 10)\n",
    "    \n",
    "n = int(input())\n",
    "result = CountZero(n)\n",
    "print(result)"
   ]
  },
  {
   "cell_type": "markdown",
   "metadata": {},
   "source": [
    "# 10. Problem : String to Integer"
   ]
  },
  {
   "cell_type": "raw",
   "metadata": {},
   "source": [
    "Write a recursive function to convert a given string into the number it represents. That is input will be a numeric string that contains only numbers, you need to convert the string into corresponding integer and return the answer.\n",
    "\n",
    "Input format : Numeric string (string, Eg. \"1234\")\n",
    "\n",
    "Output format : Corresponding integer (int, Eg. 1234)\n",
    "\n",
    "Sample Input 1 :\n",
    "1231\n",
    "\n",
    "Sample Output 1:\n",
    "1231\n",
    "\n",
    "Sample Input 2 :\n",
    "12567\n",
    "\n",
    "Sample Output 2 :\n",
    "12567"
   ]
  },
  {
   "cell_type": "markdown",
   "metadata": {},
   "source": [
    "### Python Code 01"
   ]
  },
  {
   "cell_type": "code",
   "execution_count": 56,
   "metadata": {},
   "outputs": [
    {
     "name": "stdout",
     "output_type": "stream",
     "text": [
      "012311\n",
      "12311\n"
     ]
    }
   ],
   "source": [
    "def StringToInteger(s):\n",
    "    if len(s) == 1:                    # We are working on first character at first\n",
    "        return ord(s) - ord('0')\n",
    "    \n",
    "    output = StringToInteger(s[1:])    # Apply recursion on rest of the string\n",
    "    return (ord(s[0]) - ord('0'))* (10**(len(s[1:]))) + output\n",
    "    \n",
    "s = input()\n",
    "result = StringToInteger(s)\n",
    "print(result)"
   ]
  },
  {
   "cell_type": "markdown",
   "metadata": {},
   "source": [
    "### Python Code 02"
   ]
  },
  {
   "cell_type": "code",
   "execution_count": 60,
   "metadata": {},
   "outputs": [
    {
     "name": "stdout",
     "output_type": "stream",
     "text": [
      "0087987\n",
      "87987\n"
     ]
    }
   ],
   "source": [
    "def StringToIntegerEasy(s):\n",
    "    if len(s) == 1:\n",
    "        return ord(s) - ord('0')\n",
    "    \n",
    "    output = StringToIntegerEasy(s[:-1])             # Recursion will do their work first \n",
    "    return (output * 10) + (ord(s[-1]) - ord('0'))   # then we will do our work for last character\n",
    "    \n",
    "s = input()\n",
    "result = StringToIntegerEasy(s)\n",
    "print(result)"
   ]
  },
  {
   "cell_type": "markdown",
   "metadata": {},
   "source": [
    "# 12. Problem : Pair star"
   ]
  },
  {
   "cell_type": "raw",
   "metadata": {},
   "source": [
    "Given a string, compute recursively a new string where identical chars that are adjacent in the original string are separated from each other by a \"*\".\n",
    "\n",
    "Sample Input 1 :\n",
    "hello\n",
    "\n",
    "Sample Output 1:\n",
    "hel*lo\n",
    "\n",
    "Sample Input 2 :\n",
    "xxyy\n",
    "\n",
    "Sample Output 2:\n",
    "x*xy*y\n",
    "\n",
    "Sample Input 3 :\n",
    "aaaa\n",
    "\n",
    "Sample Output 3:\n",
    "a*a*a*a"
   ]
  },
  {
   "cell_type": "markdown",
   "metadata": {},
   "source": [
    "### Python Code"
   ]
  },
  {
   "cell_type": "code",
   "execution_count": 67,
   "metadata": {},
   "outputs": [
    {
     "name": "stdout",
     "output_type": "stream",
     "text": [
      "hello\n",
      "hel*lo\n"
     ]
    }
   ],
   "source": [
    "def PairStar(s):\n",
    "    if len(s) <= 1:\n",
    "        return s\n",
    "    \n",
    "    if s[0] == s[1]:\n",
    "        return s[0] + '*' + PairStar(s[1:])     # When adjacents are equal\n",
    "    else:\n",
    "        return s[0] + PairStar(s[1:])           # When adjacents are not equal\n",
    "    \n",
    "s = input()\n",
    "result = PairStar(s)\n",
    "print(result)"
   ]
  },
  {
   "cell_type": "markdown",
   "metadata": {},
   "source": [
    "# 13. problem : Check AB"
   ]
  },
  {
   "cell_type": "raw",
   "metadata": {},
   "source": [
    "Suppose you have a string made up of only 'a' and 'b'. Write a recursive function that checks if the string was generated using the following rules:\n",
    "a. The string begins with an 'a'\n",
    "b. Each 'a' is followed by nothing or an 'a' or \"bb\"\n",
    "c. Each \"bb\" is followed by nothing or an 'a'\n",
    "If all the rules are followed by the given string, return true otherwise return false.\n",
    "\n",
    "Sample Input:\n",
    "abb\n",
    "\n",
    "Sample Output:\n",
    "true"
   ]
  },
  {
   "cell_type": "markdown",
   "metadata": {},
   "source": [
    "### Python Code 01"
   ]
  },
  {
   "cell_type": "code",
   "execution_count": 7,
   "metadata": {},
   "outputs": [
    {
     "name": "stdout",
     "output_type": "stream",
     "text": [
      "abbabba\n",
      "true\n"
     ]
    }
   ],
   "source": [
    "def CheckAB(s):\n",
    "    if len(s) == 0:\n",
    "        return True\n",
    "    \n",
    "    if s[0] == 'a':\n",
    "        if len(s[1:]) > 1 and s[1:3] == 'bb':\n",
    "            return CheckAB(s[3:])\n",
    "        else:\n",
    "            return CheckAB(s[1:])\n",
    "    else:\n",
    "        return False\n",
    "    \n",
    "s = input()\n",
    "result = CheckAB(s)\n",
    "print('true') if result else print('false')"
   ]
  },
  {
   "cell_type": "markdown",
   "metadata": {},
   "source": [
    "### Python Code 02"
   ]
  },
  {
   "cell_type": "code",
   "execution_count": 76,
   "metadata": {},
   "outputs": [
    {
     "name": "stdout",
     "output_type": "stream",
     "text": [
      "abbabba\n",
      "true\n"
     ]
    }
   ],
   "source": [
    "def CheckAB(s):\n",
    "    if len(s) == 0:\n",
    "        return True\n",
    "    \n",
    "    elif len(s) == 1 and s[0] == 'a':\n",
    "        return True\n",
    "    \n",
    "    elif s[0] == 'a':\n",
    "        if s[1] == 'a':\n",
    "            return True and CheckAB(s[1:])\n",
    "        \n",
    "        if s[1] == 'b' and len(s) == 2:\n",
    "            return False\n",
    "        \n",
    "        if s[1] == 'b' and s[2] == 'b':\n",
    "            return True and CheckAB(s[3:])\n",
    "    else:\n",
    "        return False\n",
    "    \n",
    "s = input()\n",
    "result = CheckAB(s)\n",
    "print('true') if result == True else print('false')"
   ]
  },
  {
   "cell_type": "markdown",
   "metadata": {},
   "source": [
    "# 14 problem : Staircase"
   ]
  },
  {
   "cell_type": "raw",
   "metadata": {},
   "source": [
    "A child is running up a staircase with N steps, and can hop either 1 step, 2 steps or 3 steps at a time. Implement a method to count how many possible ways the child can run up to the stairs. You need to return number of possible ways W.\n",
    "\n",
    "Input format : Line 1 : Integer N (No. of steps) \n",
    "\n",
    "Output Format : Line 1 : Integer W i.e. Number of possible ways\n",
    "\n",
    "Constraint : (1 <= N <= 30)\n",
    "\n",
    "Sample Input 1:\n",
    "4\n",
    "\n",
    "Sample Output :\n",
    "7"
   ]
  },
  {
   "cell_type": "markdown",
   "metadata": {},
   "source": [
    "### Python Code"
   ]
  },
  {
   "cell_type": "code",
   "execution_count": 20,
   "metadata": {},
   "outputs": [
    {
     "name": "stdout",
     "output_type": "stream",
     "text": [
      "4\n",
      "7\n"
     ]
    }
   ],
   "source": [
    "def Staircase(n):\n",
    "    if n == 0:\n",
    "        return 0\n",
    "    \n",
    "    if n == 1:\n",
    "        return 1\n",
    "    \n",
    "    if n == 2:\n",
    "        return 2\n",
    "    \n",
    "    if n == 3:\n",
    "        return 4\n",
    "    \n",
    "    return Staircase(n-1) + Staircase(n-2) + Staircase(n-3)\n",
    "\n",
    "n = int(input())\n",
    "result = Staircase(n)\n",
    "print(result)"
   ]
  }
 ],
 "metadata": {
  "kernelspec": {
   "display_name": "Python 3",
   "language": "python",
   "name": "python3"
  },
  "language_info": {
   "codemirror_mode": {
    "name": "ipython",
    "version": 3
   },
   "file_extension": ".py",
   "mimetype": "text/x-python",
   "name": "python",
   "nbconvert_exporter": "python",
   "pygments_lexer": "ipython3",
   "version": "3.7.3"
  }
 },
 "nbformat": 4,
 "nbformat_minor": 2
}
