{
 "cells": [
  {
   "cell_type": "markdown",
   "metadata": {},
   "source": [
    "# Classes & Objects"
   ]
  },
  {
   "cell_type": "code",
   "execution_count": 3,
   "metadata": {},
   "outputs": [
    {
     "name": "stdout",
     "output_type": "stream",
     "text": [
      "Suryakant\n",
      "21\n",
      "Suryakant is passed\n",
      "\n",
      "Suryakant\n",
      "21\n",
      "Suryakant is passed\n"
     ]
    }
   ],
   "source": [
    "class Student:\n",
    "    name = 'Suryakant'               # Properties of student class\n",
    "    age = 21\n",
    "    percentage = 90\n",
    "    \n",
    "    def isPassed(self):              # Method of student class\n",
    "        if self.percentage >= 40 :\n",
    "            print(self.name, 'is passed')\n",
    "        else:\n",
    "            print(self.name, 'is not passed')\n",
    "            \n",
    "s1 = Student()                      # Object creation\n",
    "print(s1.name)                      # properties of object\n",
    "print(s1.age)\n",
    "s1.isPassed()                       # Method calling over object\n",
    "\n",
    "print()\n",
    "\n",
    "s2 = Student()\n",
    "print(s2.name)\n",
    "print(s2.age)\n",
    "s2.isPassed()"
   ]
  },
  {
   "cell_type": "markdown",
   "metadata": {},
   "source": [
    "# Self Parameter & Static Method"
   ]
  },
  {
   "cell_type": "code",
   "execution_count": 38,
   "metadata": {},
   "outputs": [
    {
     "name": "stdout",
     "output_type": "stream",
     "text": [
      "name : Suryakant\n",
      "percentage : 80\n",
      "name : Suryakant\n",
      "percentage : 80\n",
      "\n",
      "Suryakant is passed\n",
      "Welcome to school\n",
      "\n",
      "True\n"
     ]
    }
   ],
   "source": [
    "class Student:\n",
    "    \n",
    "    passingPercentage = 40\n",
    "    \n",
    "    def StudentDetails(self):             # Instance Methods (With self parameter)\n",
    "        self.name = 'Suryakant'           # Instance attribute (life of instance attribute is lifespan of that object)\n",
    "        print('name :', self.name)\n",
    "        \n",
    "        self.percentage = 80\n",
    "        print('percentage :', self.percentage)\n",
    "    \n",
    "    def IsPassed(self):\n",
    "        if self.percentage > Student.passingPercentage:\n",
    "            print(self.name, 'is passed')\n",
    "        else:\n",
    "            print(self.name, 'is not passed')\n",
    "    \n",
    "    @staticmethod                      # This decorator doesn't need to pass default self argument to the function.\n",
    "    def WelcomeToSchool():\n",
    "        print('Welcome to school')\n",
    "        \n",
    "    @staticmethod\n",
    "    def IsTeen(age):\n",
    "        return age >= 16\n",
    "\n",
    "s1 = Student()             # Object creation\n",
    "s1.StudentDetails()        # method calling over object s1\n",
    "Student.StudentDetails(s1) # Method calling internally over the object s1 (same as above line)\n",
    "\n",
    "print()\n",
    "\n",
    "s1.IsPassed()\n",
    "s1.WelcomeToSchool()       # Static method calling\n",
    "\n",
    "print()\n",
    "\n",
    "s = Student.IsTeen(18)     # Static method calling from student class directly\n",
    "print(s)"
   ]
  },
  {
   "cell_type": "markdown",
   "metadata": {},
   "source": [
    "# Init Method"
   ]
  },
  {
   "cell_type": "code",
   "execution_count": 22,
   "metadata": {},
   "outputs": [
    {
     "name": "stdout",
     "output_type": "stream",
     "text": [
      "Welcome to School\n",
      "name : Suryakant\n",
      "age : 21\n",
      "percentage : 80\n",
      "Suryakant is passed\n",
      "\n",
      "parikh is passed\n"
     ]
    }
   ],
   "source": [
    "class Student:\n",
    "    def __init__(self, name, age, percentage = 80):        # Init method with default argument 'percentage'\n",
    "        self.name = name\n",
    "        self.age = age\n",
    "        self.percentage = percentage\n",
    "    \n",
    "    def StudentDetails(self):\n",
    "        print('name :', self.name)\n",
    "        print('age :', self.age)\n",
    "        print('percentage :', self.percentage)\n",
    "        \n",
    "    def IsPassed(self):\n",
    "        if self.percentage > 40:\n",
    "            print(self.name, 'is passed')\n",
    "        else:\n",
    "            print(self.name, 'is not passed')\n",
    "            \n",
    "    @staticmethod\n",
    "    def WelcomeToSchool():\n",
    "        print('Welcome to School')\n",
    "        \n",
    "s = Student('Suryakant', 21)\n",
    "s.WelcomeToSchool()\n",
    "s.StudentDetails()\n",
    "s.IsPassed()\n",
    "\n",
    "print()\n",
    "\n",
    "s1 = Student('parikh', 25, 90)\n",
    "s1.IsPassed()"
   ]
  },
  {
   "cell_type": "markdown",
   "metadata": {},
   "source": [
    "# Class method"
   ]
  },
  {
   "cell_type": "code",
   "execution_count": 39,
   "metadata": {},
   "outputs": [
    {
     "name": "stdout",
     "output_type": "stream",
     "text": [
      "name : Parikh\n",
      "age : 22\n",
      "percentage : 70\n"
     ]
    }
   ],
   "source": [
    "from datetime import date\n",
    "class Student:\n",
    "    def __init__(self, name, age, percentage = 80):        # Init method\n",
    "        self.name = name\n",
    "        self.age = age\n",
    "        self.percentage = percentage\n",
    "    \n",
    "    @classmethod                       # Class method\n",
    "    def FromBirthYear(cls, name, year, percentage):\n",
    "        return cls(name, date.today().year - year, percentage)       # class method returns object of the class\n",
    "    \n",
    "    def StudentDetails(self):\n",
    "        print('name :', self.name)\n",
    "        print('age :', self.age)\n",
    "        print('percentage :', self.percentage)\n",
    "        \n",
    "    def IsPassed(self):\n",
    "        if self.percentage > 40:\n",
    "            print(self.name, 'is passed')\n",
    "        else:\n",
    "            print(self.name, 'is not passed')\n",
    "            \n",
    "    @staticmethod\n",
    "    def WelcomeToSchool():\n",
    "        print('Welcome to School')\n",
    "        \n",
    "    @staticmethod\n",
    "    def IsTeen(age):\n",
    "        return age >= 16\n",
    "        \n",
    "s = Student('Suryakant', 21, 90)\n",
    "\n",
    "s = Student.FromBirthYear('Parikh', 1997, 70)        # Object creation from class method\n",
    "s.StudentDetails()"
   ]
  },
  {
   "cell_type": "markdown",
   "metadata": {},
   "source": [
    "# Public And Private Modifiers"
   ]
  },
  {
   "cell_type": "code",
   "execution_count": 46,
   "metadata": {},
   "outputs": [
    {
     "name": "stdout",
     "output_type": "stream",
     "text": [
      "Suryakant\n",
      "Adarsh Avasiya Vidyalaya\n"
     ]
    }
   ],
   "source": [
    "class Student:\n",
    "    __school = 'Adarsh Avasiya Vidyalaya'                  # Private variable\n",
    "    \n",
    "    def __init__(self, name, age, percentage = 80):        # Init method\n",
    "        self.__name = name                                 # Private variable\n",
    "        self.age = age\n",
    "        self.percentage = percentage\n",
    "    \n",
    "    def StudentDetails(self):\n",
    "        print('name :', self.name)\n",
    "        print('age :', self.age)\n",
    "        print('percentage :', self.percentage)\n",
    "        \n",
    "    def IsPassed(self):\n",
    "        if self.percentage > 40:\n",
    "            print(self.name, 'is passed')\n",
    "        else:\n",
    "            print(self.name, 'is not passed')\n",
    "    \n",
    "        \n",
    "s = Student('Suryakant', 21, 90)\n",
    "# print(s.name)                    # We can not access private variables through object\n",
    "print(s._Student__name)            # we can access private variable through mangling (syntax : objectName._className__variableName)\n",
    "\n",
    "print(Student._Student__school)    # Accesssing private variables (making public)"
   ]
  }
 ],
 "metadata": {
  "kernelspec": {
   "display_name": "Python 3",
   "language": "python",
   "name": "python3"
  },
  "language_info": {
   "codemirror_mode": {
    "name": "ipython",
    "version": 3
   },
   "file_extension": ".py",
   "mimetype": "text/x-python",
   "name": "python",
   "nbconvert_exporter": "python",
   "pygments_lexer": "ipython3",
   "version": "3.7.3"
  }
 },
 "nbformat": 4,
 "nbformat_minor": 2
}
