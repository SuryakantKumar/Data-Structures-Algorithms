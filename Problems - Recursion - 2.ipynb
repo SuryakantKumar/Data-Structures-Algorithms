{
 "cells": [
  {
   "cell_type": "markdown",
   "metadata": {},
   "source": [
    "# Problem : Replace X"
   ]
  },
  {
   "cell_type": "raw",
   "metadata": {},
   "source": [
    "Given a string, Compute recursively a new string where all 'x' char have been replaced with 'k'.\n",
    "\n",
    "Sample Input 1 :\n",
    "xaxb\n",
    "x\n",
    "c\n",
    "\n",
    "Sample Output 1:\n",
    "cacb"
   ]
  },
  {
   "cell_type": "markdown",
   "metadata": {},
   "source": [
    "### Python Code"
   ]
  },
  {
   "cell_type": "code",
   "execution_count": 5,
   "metadata": {},
   "outputs": [
    {
     "name": "stdout",
     "output_type": "stream",
     "text": [
      "dcdccdcdcc\n",
      "c\n",
      "x\n",
      "dxdxxdxdxx\n"
     ]
    }
   ],
   "source": [
    "def ReplaceChar(string, x, k):\n",
    "    if len(string) == 0:         # Base Case\n",
    "        return string\n",
    "    \n",
    "    output = ReplaceChar(string[1:], x, k)        # Induction Hypothesis\n",
    "    \n",
    "    if string[0] == x:           # Induction Step \n",
    "        return k + output\n",
    "    else:\n",
    "        return string[0] + output\n",
    "    \n",
    "string = input()\n",
    "x = input()\n",
    "k = input()\n",
    "result = ReplaceChar(string, x, k)\n",
    "print(result)"
   ]
  },
  {
   "cell_type": "markdown",
   "metadata": {},
   "source": [
    "# 02. Problem : Remove X"
   ]
  },
  {
   "cell_type": "raw",
   "metadata": {},
   "source": [
    "Given a string, compute recursively a new string where all 'x' chars have been removed.\n",
    "\n",
    "Sample Input 1 :\n",
    "xaxb\n",
    "\n",
    "Sample Output 1:\n",
    "ab\n",
    "\n",
    "Sample Input 2 :\n",
    "abc\n",
    "\n",
    "Sample Output 2:\n",
    "abc\n",
    "\n",
    "Sample Input 3 :\n",
    "xx\n",
    "\n",
    "Sample Output 3:\n"
   ]
  },
  {
   "cell_type": "markdown",
   "metadata": {},
   "source": [
    "### Python Code"
   ]
  },
  {
   "cell_type": "code",
   "execution_count": 9,
   "metadata": {},
   "outputs": [
    {
     "name": "stdout",
     "output_type": "stream",
     "text": [
      "gvxxhghxgxxxgg\n",
      "gvhghggg\n"
     ]
    }
   ],
   "source": [
    "def RemoveX(string):\n",
    "    if len(string) == 0:          # Base case\n",
    "        return string\n",
    "    \n",
    "    output = RemoveX(string[1:])  # Induction hypothesis\n",
    "    \n",
    "    if string[0] == 'x':          # Induction step\n",
    "        return output\n",
    "    else:\n",
    "        return string[0] + output\n",
    "    \n",
    "string = input()\n",
    "result = RemoveX(string)\n",
    "print(result)"
   ]
  },
  {
   "cell_type": "markdown",
   "metadata": {},
   "source": [
    "### Python Code (Alternative)"
   ]
  },
  {
   "cell_type": "code",
   "execution_count": 13,
   "metadata": {},
   "outputs": [
    {
     "name": "stdout",
     "output_type": "stream",
     "text": [
      "axbcx\n",
      "abc\n"
     ]
    }
   ],
   "source": [
    "def RemoveX(s):    \n",
    "    if len(s) == 0:          # Base case\n",
    "        return s\n",
    "    \n",
    "    if s[0] == \"x\":\n",
    "        return RemoveX(s[1:])\n",
    "    else:\n",
    "        return s[0] + RemoveX(s[1:])\n",
    "\n",
    "s =input()\n",
    "ans = RemoveX(s)\n",
    "print(ans)"
   ]
  },
  {
   "cell_type": "markdown",
   "metadata": {},
   "source": [
    "# Problem : Replace Pi"
   ]
  },
  {
   "cell_type": "raw",
   "metadata": {},
   "source": [
    "Given a string, Compute recursively a new string where all 'pi' (i.e, multiple characters) have been replaced with 'k'.\n",
    "\n",
    "Sample Input 1 :\n",
    "ppi3.14\n",
    "\n",
    "Sample Output 1:\n",
    "p3.143.14"
   ]
  },
  {
   "cell_type": "markdown",
   "metadata": {},
   "source": [
    "### Python Code"
   ]
  },
  {
   "cell_type": "code",
   "execution_count": 10,
   "metadata": {},
   "outputs": [
    {
     "name": "stdout",
     "output_type": "stream",
     "text": [
      "sppi3.14pi\n",
      "sp3.143.143.14\n"
     ]
    }
   ],
   "source": [
    "def ReplacePi(s):\n",
    "    if len(s) == 0 or len(s) == 1:      # Base Case\n",
    "        return s\n",
    "    \n",
    "    if s[0] == 'p' and s[1] == 'i':     \n",
    "        return '3.14' + ReplacePi(s[2:])\n",
    "    else:\n",
    "        return s[0] + ReplacePi(s[1:])\n",
    "\n",
    "s = input()\n",
    "result = ReplacePi(s)\n",
    "print(result)"
   ]
  },
  {
   "cell_type": "markdown",
   "metadata": {},
   "source": [
    "# 04. Problem : Remove Duplicates Recursively"
   ]
  },
  {
   "cell_type": "raw",
   "metadata": {},
   "source": [
    "Given a string S, remove consecutive duplicates from it recursively.\n",
    "\n",
    "Input Format : String S\n",
    "Output Format : Output string\n",
    "Constraints : 1 <= Length of String S <= 10^3\n",
    "\n",
    "Sample Input :\n",
    "aabccba\n",
    "\n",
    "Sample Output :\n",
    "abcba"
   ]
  },
  {
   "cell_type": "markdown",
   "metadata": {},
   "source": [
    "### Python Code"
   ]
  },
  {
   "cell_type": "code",
   "execution_count": 22,
   "metadata": {},
   "outputs": [
    {
     "name": "stdout",
     "output_type": "stream",
     "text": [
      "abbcxxx\n",
      "abcx\n"
     ]
    }
   ],
   "source": [
    "def removeConsecutiveDuplicates(string):\n",
    "    if len(string) == 0 or len(string) == 1:         # Base Case\n",
    "        return string\n",
    "    \n",
    "    smallOutput = removeConsecutiveDuplicates(string[1:])\n",
    "    \n",
    "    if string[0] != string[1] :\n",
    "        return string[0] + smallOutput\n",
    "    else:\n",
    "        return smallOutput\n",
    "    \n",
    "string = input().strip()\n",
    "print(removeConsecutiveDuplicates(string))"
   ]
  },
  {
   "cell_type": "markdown",
   "metadata": {},
   "source": [
    "# Problem : Binary Search"
   ]
  },
  {
   "cell_type": "raw",
   "metadata": {},
   "source": [
    "Given a sorted integer array (in ascending order) and an element x. You need to search this element x in the given input array using binary search recursively. Return the index of element in the input.\n",
    "Indexing starts from 0.\n",
    "Return -1 if x is not present in the input array. \n",
    "\n",
    "Input format : Line 1 : Array elements (separated by space)\n",
    "               Line 2 : Element to be searched (i.e. x)\n",
    "Output Format : Index\n",
    "Constraints : 1 <= N <= 10^6\n",
    "\n",
    "Sample Input 1:\n",
    "1 3 7 9 11 12 45\n",
    "3\n",
    "\n",
    "Sample Output 1:\n",
    "1\n",
    "\n",
    "Sample Input 2:\n",
    "1 2 3 4 5 6 7\n",
    "9\n",
    "\n",
    "Sample Output 2:\n",
    "-1"
   ]
  },
  {
   "cell_type": "markdown",
   "metadata": {},
   "source": [
    "### Python Code"
   ]
  },
  {
   "cell_type": "code",
   "execution_count": 13,
   "metadata": {},
   "outputs": [
    {
     "name": "stdout",
     "output_type": "stream",
     "text": [
      "3 4 5 6 7\n",
      "8\n",
      "-1\n"
     ]
    }
   ],
   "source": [
    "def BinarySearch(li, x, si, ei):\n",
    "    if si > ei:                  # Base Case\n",
    "        return -1\n",
    "    \n",
    "    mid = (si + ei)//2\n",
    "    \n",
    "    if li[mid] == x:\n",
    "        return mid\n",
    "    \n",
    "    elif li[mid] < x:\n",
    "        return BinarySearch(li, x, mid+1, ei)\n",
    "    \n",
    "    else:\n",
    "        return BinarySearch(li, x, si, mid-1)\n",
    "        \n",
    "li = [int(x) for x in input().strip().split()]\n",
    "x = int(input())\n",
    "si = 0\n",
    "ei = len(li) - 1\n",
    "result = BinarySearch(li, x, si, ei)\n",
    "print(result)"
   ]
  },
  {
   "cell_type": "markdown",
   "metadata": {},
   "source": [
    "# 07. Problem : Merge Sort"
   ]
  },
  {
   "cell_type": "raw",
   "metadata": {},
   "source": [
    "Sort an array A using Merge Sort.\n",
    "Change in the input array itself. So no need to return or print anything.\n",
    "\n",
    "Input format : Line 1 : Integer n i.e. Array size\n",
    "               Line 2 : Array elements (separated by space)\n",
    "               \n",
    "Output format : Array elements in increasing order (separated by space)\n",
    "\n",
    "Constraints : 1 <= n <= 1000\n",
    "\n",
    "Sample Input:\n",
    "6 \n",
    "2 6 8 5 4 3\n",
    "\n",
    "Sample Output:\n",
    "2 3 4 5 6 8"
   ]
  },
  {
   "cell_type": "markdown",
   "metadata": {},
   "source": [
    "### python Code"
   ]
  },
  {
   "cell_type": "code",
   "execution_count": 20,
   "metadata": {},
   "outputs": [
    {
     "name": "stdout",
     "output_type": "stream",
     "text": [
      "6\n",
      "6 8 0 9 6 8\n",
      "0 6 6 8 8 9\n"
     ]
    }
   ],
   "source": [
    "def Merge(li1, li2, li):         # Merge two sorted array\n",
    "    i = 0\n",
    "    j = 0\n",
    "    k = 0\n",
    "    \n",
    "    while i < len(li1) and j < len(li2):\n",
    "        if li1[i] < li2[j]:\n",
    "            li[k] = li1[i]\n",
    "            k += 1\n",
    "            i += 1\n",
    "        else:\n",
    "            li[k] = li2[j]\n",
    "            k += 1\n",
    "            j += 1\n",
    "    \n",
    "    while i < len(li1):\n",
    "        li[k] = li1[i]\n",
    "        k += 1\n",
    "        i += 1\n",
    "    \n",
    "    while j < len(li2):\n",
    "        li[k] = li2[j]\n",
    "        k += 1\n",
    "        j += 1 \n",
    "\n",
    "def MergeSort(li):\n",
    "    if len(li) == 0 or len(li) == 1:       # Base Case\n",
    "        return \n",
    "    \n",
    "    mid = len(li)//2\n",
    "    \n",
    "    li1 = li[0:mid]                    # Dividing into two arrays\n",
    "    li2 = li[mid:]\n",
    "    \n",
    "    MergeSort(li1)                         # Call merge sort on both divided arrays\n",
    "    MergeSort(li2)\n",
    "    \n",
    "    Merge(li1, li2, li)                    # Call mege on both divided array which has been sorted now\n",
    "\n",
    "n = int(input())\n",
    "li = [int(x) for x in input().strip().split()]\n",
    "MergeSort(li)\n",
    "print(*li)"
   ]
  },
  {
   "cell_type": "markdown",
   "metadata": {},
   "source": [
    "# 10. problem : Quick Sort"
   ]
  },
  {
   "cell_type": "raw",
   "metadata": {},
   "source": [
    "Sort an array A using Quick Sort.\n",
    "Change in the input array itself. So no need to return or print anything.\n",
    "\n",
    "Input format : Line 1 : Integer n i.e. Array size\n",
    "               Line 2 : Array elements (separated by space)\n",
    "               \n",
    "Output format : Array elements in increasing order (separated by space)\n",
    "\n",
    "Constraints : 1 <= n <= 1000\n",
    "\n",
    "Sample Input:\n",
    "6 \n",
    "2 6 8 5 4 3\n",
    "\n",
    "Sample Output:\n",
    "2 3 4 5 6 8"
   ]
  },
  {
   "cell_type": "markdown",
   "metadata": {},
   "source": [
    "### Python Code"
   ]
  },
  {
   "cell_type": "code",
   "execution_count": 5,
   "metadata": {},
   "outputs": [
    {
     "name": "stdout",
     "output_type": "stream",
     "text": [
      "8\n",
      "3 1 0 9 6 5 2 6\n",
      "0 1 2 3 5 6 6 9\n"
     ]
    }
   ],
   "source": [
    "def Partition(li, si, ei):\n",
    "    pivot = li[si]                       # Pivot element\n",
    "    \n",
    "    count = 0                            # Count elements smaller than pivot element\n",
    "    for i in range(si, ei + 1):\n",
    "        if li[i] < pivot:\n",
    "            count += 1\n",
    "    \n",
    "    li[si], li[si + count] = li[si + count], li[si]    # Move pivot element to its correct position\n",
    "    \n",
    "    pivot_index = si + count             # Index of pivot element now\n",
    "    \n",
    "    i = si                               # Move element less than pivot to left of it \n",
    "    j = ei                               # and elements greater than pivot to right of it \n",
    "    while i < j:\n",
    "        if li[i] < pivot:\n",
    "            i += 1\n",
    "        elif li[j] >= pivot:\n",
    "            j -= 1\n",
    "        else:\n",
    "            li[i], li[j] = li[j], li[i]\n",
    "            i += 1\n",
    "            j -= 1\n",
    "    \n",
    "    return pivot_index\n",
    "        \n",
    "def QuickSort(li, si, ei):\n",
    "    if si >= ei:                         # Base Case when empty list(if si > ei) or when only 1 element left(if si == ei)\n",
    "        return \n",
    "    \n",
    "    pivot_index = Partition(li, si, ei)        # Find Pivot index\n",
    "    \n",
    "    QuickSort(li, si, pivot_index - 1)         # Call Quick sort on elements left to Pivot index element\n",
    "    QuickSort(li, pivot_index + 1, ei)         # Call Quick sort on elements right to Pivot index element\n",
    "    \n",
    "n = int(input())\n",
    "li = [int(x) for x in input().strip().split()]\n",
    "si = 0\n",
    "ei = n - 1\n",
    "QuickSort(li, si, ei)\n",
    "print(*li)"
   ]
  },
  {
   "cell_type": "markdown",
   "metadata": {},
   "source": [
    "# 13. Problem : Tower of Hanoi"
   ]
  },
  {
   "cell_type": "raw",
   "metadata": {},
   "source": [
    "Tower of Hanoi is a mathematical puzzle where we have three rods and n disks. The objective of the puzzle is to move all disks from source rod to destination rod using third rod (say auxiliary). The rules are :\n",
    "1) Only one disk can be moved at a time.\n",
    "2) A disk can be moved only if it is on the top of a rod.\n",
    "3) No disk can be placed on the top of a smaller disk.\n",
    "\n",
    "Print the steps required to move n disks from source rod to destination rod.\n",
    "Source Rod is named as 'a', auxiliary rod as 'b' and destination rod as 'c'.\n",
    "\n",
    "Input Format : Integer n\n",
    "\n",
    "Output Format : Steps in different lines (in one line print source and destination rod name separated by space)\n",
    "\n",
    "Sample Input :\n",
    "2\n",
    "\n",
    "Sample Output :\n",
    "a b\n",
    "a c\n",
    "b c"
   ]
  },
  {
   "cell_type": "markdown",
   "metadata": {},
   "source": [
    "### Python Code"
   ]
  },
  {
   "cell_type": "code",
   "execution_count": 25,
   "metadata": {},
   "outputs": [
    {
     "name": "stdout",
     "output_type": "stream",
     "text": [
      "3\n",
      "Move disk - 1 from a to c\n",
      "Move disk - 2 from a to b\n",
      "Move disk - 1 from c to b\n",
      "Move disk - 3 from a to c\n",
      "Move disk - 1 from b to a\n",
      "Move disk - 2 from b to c\n",
      "Move disk - 1 from a to c\n"
     ]
    }
   ],
   "source": [
    "def TowerOfHanoi(n, source, auxiliary, destination):\n",
    "    if n == 0:\n",
    "        return\n",
    "    \n",
    "    if n == 1:\n",
    "        print('Move disk - 1 from', source, 'to', destination)\n",
    "        return\n",
    "        \n",
    "    TowerOfHanoi(n-1, source, destination, auxiliary)\n",
    "    \n",
    "    print('Move disk -', n, 'from', source, 'to', destination)\n",
    "    \n",
    "    TowerOfHanoi(n-1, auxiliary, source, destination)\n",
    "    \n",
    "n = int(input())\n",
    "TowerOfHanoi(n, 'a', 'b', 'c')"
   ]
  }
 ],
 "metadata": {
  "kernelspec": {
   "display_name": "Python 3",
   "language": "python",
   "name": "python3"
  },
  "language_info": {
   "codemirror_mode": {
    "name": "ipython",
    "version": 3
   },
   "file_extension": ".py",
   "mimetype": "text/x-python",
   "name": "python",
   "nbconvert_exporter": "python",
   "pygments_lexer": "ipython3",
   "version": "3.7.3"
  }
 },
 "nbformat": 4,
 "nbformat_minor": 2
}
