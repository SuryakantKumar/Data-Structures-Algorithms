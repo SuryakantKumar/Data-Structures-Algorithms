{
 "cells": [
  {
   "cell_type": "markdown",
   "metadata": {},
   "source": [
    "# 21. Problem : Find average Marks"
   ]
  },
  {
   "cell_type": "raw",
   "metadata": {},
   "source": [
    "Write a program to input marks of three tests of a student (all integers). Then calculate and print the average of all test marks.\n",
    "\n",
    "Input format : 3 Test marks (in different lines)\n",
    "Output format : Average \n",
    "\n",
    "Sample Input 1 :\n",
    "3 \n",
    "4 \n",
    "6\n",
    "\n",
    "Sample Output 1 :\n",
    "4.333333333333333\n",
    "\n",
    "Sample Input 2 :\n",
    "5 \n",
    "10 \n",
    "5\n",
    "\n",
    "Sample Output 2 :\n",
    "6.666666666666667"
   ]
  },
  {
   "cell_type": "code",
   "execution_count": 5,
   "metadata": {},
   "outputs": [
    {
     "name": "stdout",
     "output_type": "stream",
     "text": [
      "Enter First Number : 10\n",
      "Enter Second Number : 11\n",
      "Enter Third Number : 12\n",
      "Average is :  11.0\n"
     ]
    }
   ],
   "source": [
    "a = int(input(\"Enter First Number : \"))\n",
    "b = int(input(\"Enter Second Number : \"))\n",
    "c = int(input(\"Enter Third Number : \"))\n",
    "\n",
    "average = (a+b+c)/3\n",
    "\n",
    "print(\"Average is : \", average)"
   ]
  },
  {
   "cell_type": "markdown",
   "metadata": {},
   "source": [
    "# 22. Problem : Find X raised to power N"
   ]
  },
  {
   "cell_type": "raw",
   "metadata": {},
   "source": [
    "You are given two integers: X and N. You have to calculate X raised to power N and print it.\n",
    "\n",
    "Input format: The first line of input contains an integer X (1 <= X <= 100)\n",
    "              The second line of input contains an integer N (1 <= N <= 10) \n",
    "Constraints: Time Limit: 1 second\n",
    "Output format: The first and only line of output contains the result.  \n",
    "\n",
    "Sample Input:\n",
    "10\n",
    "4\n",
    "\n",
    "Sample Output:\n",
    "10000"
   ]
  },
  {
   "cell_type": "code",
   "execution_count": 2,
   "metadata": {},
   "outputs": [
    {
     "name": "stdout",
     "output_type": "stream",
     "text": [
      "Enter value of X : 10\n",
      "Enter value of N : 2\n",
      "X raised to the power N is :  100\n"
     ]
    }
   ],
   "source": [
    "X = int(input(\"Enter value of X : \"))\n",
    "N = int(input(\"Enter value of N : \"))\n",
    "\n",
    "result = X**N\n",
    "\n",
    "print(\"X raised to the power N is : \", result)"
   ]
  },
  {
   "cell_type": "markdown",
   "metadata": {},
   "source": [
    "# 23. Problem : Arithmetic Progression"
   ]
  },
  {
   "cell_type": "raw",
   "metadata": {},
   "source": [
    "You are given first three entries of an arithmetic progression. You have to calculate the common difference and print it.\n",
    "\n",
    "Input format: The first line of input contains an integer a (1 <= a <= 100)\n",
    "              The second line of input contains an integer b (1 <= b <= 100) \n",
    "              The third line of input contains an integer c (1 <= c <= 100) \n",
    "Constraints: Time Limit: 1 second\n",
    "Output format: The first and only line of output contains the result.  \n",
    "\n",
    "Sample Input:\n",
    "1\n",
    "3\n",
    "5\n",
    "\n",
    "Sample Output:\n",
    "2"
   ]
  },
  {
   "cell_type": "code",
   "execution_count": 3,
   "metadata": {},
   "outputs": [
    {
     "name": "stdout",
     "output_type": "stream",
     "text": [
      "First entry : 2\n",
      "Second entry : 3\n",
      "Third entry : 4\n",
      "Common difference is :  1\n"
     ]
    }
   ],
   "source": [
    "a = int(input(\"First entry : \"))\n",
    "b = int(input(\"Second entry : \"))\n",
    "c = int(input(\"Third entry : \"))\n",
    "cd = b-a\n",
    "print(\"Common difference is : \", cd)"
   ]
  },
  {
   "cell_type": "markdown",
   "metadata": {},
   "source": [
    "# 24. Problem : Rectangular Area"
   ]
  },
  {
   "cell_type": "raw",
   "metadata": {},
   "source": [
    "You are given a rectangle in a plane. The corner coordinates of this rectangle is provided to you. You have to print the amount of area of the plane covered by this rectangles.\n",
    "The end coordinates are provided as four integral values: x1, y1, x2, y2. It is given that x1 < x2 and y1 < y2.\n",
    "\n",
    "Input format: The first line of input contains an integer x1 (1 <= x1 <= 10)\n",
    "              The second line of input contains an integer y1 (1 <= y1 <= 10) \n",
    "              The third line of input contains an integer x2 (1 <= x2 <= 10)\n",
    "              The fourth line of input contains an integer y2 (1 <= y2 <= 10) \n",
    "Constraints: Time Limit: 1 second\n",
    "Output format: The first and only line of output contains the result.  \n",
    "\n",
    "Sample Input:\n",
    "1\n",
    "1\n",
    "3\n",
    "3\n",
    "\n",
    "Sample Output:\n",
    "4"
   ]
  },
  {
   "cell_type": "code",
   "execution_count": 4,
   "metadata": {},
   "outputs": [
    {
     "name": "stdout",
     "output_type": "stream",
     "text": [
      "Enter x1 : 1\n",
      "Enter y1 : 4\n",
      "Enter x2 : 3\n",
      "Enter y2 : 6\n",
      "Area of rectangle is :  4\n"
     ]
    }
   ],
   "source": [
    "x1 = int(input(\"Enter x1 : \"))\n",
    "y1 = int(input(\"Enter y1 : \"))\n",
    "x2 = int(input(\"Enter x2 : \"))\n",
    "y2 = int(input(\"Enter y2 : \"))\n",
    "area = (x2-x1)*(y2-y1)\n",
    "print(\"Area of rectangle is : \", area)"
   ]
  }
 ],
 "metadata": {
  "kernelspec": {
   "display_name": "Python 3",
   "language": "python",
   "name": "python3"
  },
  "language_info": {
   "codemirror_mode": {
    "name": "ipython",
    "version": 3
   },
   "file_extension": ".py",
   "mimetype": "text/x-python",
   "name": "python",
   "nbconvert_exporter": "python",
   "pygments_lexer": "ipython3",
   "version": "3.7.3"
  }
 },
 "nbformat": 4,
 "nbformat_minor": 2
}
