{
 "cells": [
  {
   "cell_type": "markdown",
   "metadata": {},
   "source": [
    "# 15. Problem : Fahrenheit to Celsius Function"
   ]
  },
  {
   "cell_type": "raw",
   "metadata": {},
   "source": [
    "Given three values - Start Fahrenheit Value (S), End Fahrenheit value (E) and Step Size (W), you need to convert all Fahrenheit values from Start to End at the gap of W, into their corresponding Celsius values and print the table.\n",
    "\n",
    "Input Format : 3 integers - S, E and W respectively\n",
    "Output Format : Fahrenheit to Celsius conversion table. One line for every Fahrenheit and Celsius Fahrenheit value. \n",
    "\n",
    "Fahrenheit value and its corresponding Celsius value should be separate by tab (\"\\t\")\n",
    "\n",
    "Sample Input :\n",
    "0 \n",
    "100 \n",
    "20\n",
    "\n",
    "Sample Output :\n",
    "0   -17\n",
    "20  -6\n",
    "40  4\n",
    "60  15\n",
    "80  26\n",
    "100 37"
   ]
  },
  {
   "cell_type": "markdown",
   "metadata": {},
   "source": [
    "### Python Code"
   ]
  },
  {
   "cell_type": "code",
   "execution_count": 1,
   "metadata": {},
   "outputs": [
    {
     "name": "stdout",
     "output_type": "stream",
     "text": [
      "0\n",
      "100\n",
      "20\n",
      "0 \t -17\n",
      "20 \t -6\n",
      "40 \t 4\n",
      "60 \t 15\n",
      "80 \t 26\n",
      "100 \t 37\n"
     ]
    }
   ],
   "source": [
    "s = int(input())\n",
    "e = int(input())\n",
    "w = int(input())\n",
    "\n",
    "def f2c(s, e, w):\n",
    "    for s in range(s, e+1, w):\n",
    "        c= int((s-32)*5/9)\n",
    "        print(s,'\\t', c)\n",
    "f2c(s,e,w)"
   ]
  },
  {
   "cell_type": "markdown",
   "metadata": {},
   "source": [
    "# 16. Problem : Fibonacci Member"
   ]
  },
  {
   "cell_type": "raw",
   "metadata": {},
   "source": [
    "Given a number N, figure out if it is a member of fibonacci series or not. Return true if the number is member of fibonacci series else false.\n",
    "Fibonacci Series is defined by the recurrence\n",
    "    F(n) = F(n-1) + F(n-2)\n",
    "    \n",
    "Input Format : Integer N\n",
    "Output Format : true or false\n",
    "\n",
    "Sample Input 1 :\n",
    "5\n",
    "\n",
    "Sample Output 1 :\n",
    "true\n",
    "\n",
    "Sample Input 2 :\n",
    "14\n",
    "\n",
    "Sample Output 2 :\n",
    "false "
   ]
  },
  {
   "cell_type": "markdown",
   "metadata": {},
   "source": [
    "### Python Code"
   ]
  },
  {
   "cell_type": "code",
   "execution_count": 2,
   "metadata": {},
   "outputs": [
    {
     "name": "stdout",
     "output_type": "stream",
     "text": [
      "14\n",
      "false\n"
     ]
    }
   ],
   "source": [
    "n = int(input())\n",
    "\n",
    "def fibonacci(n):\n",
    "    n1 = 0\n",
    "    n2 = 1\n",
    "    n3 = 1\n",
    "    \n",
    "    while n3 < n:\n",
    "        n3 = n1 + n2\n",
    "        n1 = n2\n",
    "        n2 = n3\n",
    "        \n",
    "    if (n3 == n):\n",
    "        print(\"true\")\n",
    "    else:\n",
    "        print(\"false\")\n",
    "fibonacci(n)"
   ]
  },
  {
   "cell_type": "markdown",
   "metadata": {},
   "source": [
    "# 17. Problem : Palindrome number"
   ]
  },
  {
   "cell_type": "raw",
   "metadata": {},
   "source": [
    "Write a program to determine if given number is palindrome or not. Print true if it is palindrome, false otherwise.\n",
    "Palindrome are the numbers for which reverse is exactly same as the original one. For eg. 121\n",
    "\n",
    "Sample Input 1 :\n",
    "121\n",
    "\n",
    "Sample Output 1 :\n",
    "true\n",
    "\n",
    "Sample Input 2 :\n",
    "1032\n",
    "\n",
    "Sample Output 2 :\n",
    "false"
   ]
  },
  {
   "cell_type": "markdown",
   "metadata": {},
   "source": [
    "### Python Code"
   ]
  },
  {
   "cell_type": "code",
   "execution_count": 6,
   "metadata": {},
   "outputs": [
    {
     "name": "stdout",
     "output_type": "stream",
     "text": [
      "123454321\n",
      "true\n"
     ]
    }
   ],
   "source": [
    "n = int(input())\n",
    "\n",
    "def palindrome(n):\n",
    "    real = n\n",
    "    reverse=0\n",
    "    while n != 0:\n",
    "        ls = n // 10\n",
    "        ms = n % 10\n",
    "        n = ls\n",
    "        reverse = (reverse * 10) + ms\n",
    "        \n",
    "    if (real == reverse):\n",
    "        print(\"true\")\n",
    "    else:\n",
    "        print(\"false\")\n",
    "palindrome(n)"
   ]
  },
  {
   "cell_type": "markdown",
   "metadata": {},
   "source": [
    "# 18. Problem : Check Armstrong"
   ]
  },
  {
   "cell_type": "raw",
   "metadata": {},
   "source": [
    "Write a Program to determine if the given number is Armstrong number or not. Print true if number is armstrong, otherwise print false.\n",
    "\n",
    "An Armstrong number is a number (with digits n) such that the sum of its digits raised to nth power is equal to the number itself.\n",
    "\n",
    "For example,\n",
    "371, as 3^3 + 7^3 + 1^3 = 371\n",
    "1634, as 1^4 + 6^4 + 3^4 + 4^4 = 1634\n",
    "\n",
    "Input Format : Integer n\n",
    "Output Format : true or false\n",
    "\n",
    "Sample Input 1 :\n",
    "1\n",
    "\n",
    "Sample Output 1 :\n",
    "true\n",
    "\n",
    "Sample Input 2 :\n",
    "103\n",
    "\n",
    "Sample Output 2 :\n",
    "false"
   ]
  },
  {
   "cell_type": "markdown",
   "metadata": {},
   "source": [
    "### Python Code"
   ]
  },
  {
   "cell_type": "code",
   "execution_count": 7,
   "metadata": {},
   "outputs": [
    {
     "name": "stdout",
     "output_type": "stream",
     "text": [
      "1634\n",
      "true\n"
     ]
    }
   ],
   "source": [
    "n = int(input())\n",
    "\n",
    "def armstrong(n):\n",
    "    real = n\n",
    "    new_number = 0\n",
    "    digits = len(str(n))\n",
    "    \n",
    "    while n != 0:\n",
    "        ls = n//10\n",
    "        ms = n%10\n",
    "        n = ls\n",
    "        term =((ms)**(digits))\n",
    "        new_number = new_number + term\n",
    "        \n",
    "    if (new_number == real):\n",
    "        print(\"true\")\n",
    "    else:\n",
    "        print(\"false\")\n",
    "armstrong(n)"
   ]
  }
 ],
 "metadata": {
  "kernelspec": {
   "display_name": "Python 3",
   "language": "python",
   "name": "python3"
  },
  "language_info": {
   "codemirror_mode": {
    "name": "ipython",
    "version": 3
   },
   "file_extension": ".py",
   "mimetype": "text/x-python",
   "name": "python",
   "nbconvert_exporter": "python",
   "pygments_lexer": "ipython3",
   "version": "3.7.3"
  }
 },
 "nbformat": 4,
 "nbformat_minor": 2
}
