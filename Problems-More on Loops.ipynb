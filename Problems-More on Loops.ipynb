{
 "cells": [
  {
   "cell_type": "markdown",
   "metadata": {},
   "source": [
    "# 17. Problem : Binary Pattern"
   ]
  },
  {
   "cell_type": "raw",
   "metadata": {},
   "source": [
    "Print the following pattern for the given number of rows.\n",
    "Pattern for N = 4\n",
    "1111\n",
    "000\n",
    "11\n",
    "0\n",
    "\n",
    "Input format : N (Total no. of rows)\n",
    "Output format : Pattern in N lines\n",
    "\n",
    "Sample Input :\n",
    "5\n",
    "\n",
    "Sample Output :\n",
    "11111\n",
    "0000\n",
    "111\n",
    "00\n",
    "1"
   ]
  },
  {
   "cell_type": "markdown",
   "metadata": {},
   "source": [
    "### Python Code"
   ]
  },
  {
   "cell_type": "code",
   "execution_count": 5,
   "metadata": {},
   "outputs": [
    {
     "name": "stdout",
     "output_type": "stream",
     "text": [
      "5\n",
      "11111\n",
      "0000\n",
      "111\n",
      "00\n",
      "1\n"
     ]
    }
   ],
   "source": [
    "n = int(input())\n",
    "\n",
    "i = 1\n",
    "while i <= n:\n",
    "    j = 1\n",
    "    while j <= n-i+1:\n",
    "        if i %2 == 0:\n",
    "            print(0, end = \"\")\n",
    "        else:\n",
    "            print(1, end = \"\")\n",
    "        j += 1\n",
    "    print()\n",
    "    i += 1"
   ]
  },
  {
   "cell_type": "code",
   "execution_count": 7,
   "metadata": {},
   "outputs": [
    {
     "name": "stdout",
     "output_type": "stream",
     "text": [
      "4\n",
      "1111\n",
      "000\n",
      "11\n",
      "0\n"
     ]
    }
   ],
   "source": [
    "n = int(input())\n",
    "\n",
    "for i in range(1, n+1):\n",
    "    for j in range (1, n-i+2):\n",
    "        if(i%2 != 0):\n",
    "            print(\"1\", end = '')\n",
    "        else:\n",
    "            print(\"0\", end = '')\n",
    "    print()"
   ]
  },
  {
   "cell_type": "markdown",
   "metadata": {},
   "source": [
    "# 18. Problem : Print Number Pyramid"
   ]
  },
  {
   "cell_type": "raw",
   "metadata": {},
   "source": [
    "Print the following pattern for a given n.\n",
    "For eg. N = 6\n",
    "123456\n",
    " 23456\n",
    "  3456\n",
    "   456\n",
    "    56\n",
    "     6\n",
    "    56\n",
    "   456\n",
    "  3456\n",
    " 23456\n",
    "123456\n",
    "\n",
    "Sample Input 1 :\n",
    "4\n",
    "\n",
    "Sample Output 1 :\n",
    "1234\n",
    " 234\n",
    "  34\n",
    "   4\n",
    "  34\n",
    " 234\n",
    "1234"
   ]
  },
  {
   "cell_type": "markdown",
   "metadata": {},
   "source": [
    "### Python Code"
   ]
  },
  {
   "cell_type": "code",
   "execution_count": 11,
   "metadata": {},
   "outputs": [
    {
     "name": "stdout",
     "output_type": "stream",
     "text": [
      "4\n",
      "1234\n",
      " 234\n",
      "  34\n",
      "   4\n",
      "  34\n",
      " 234\n",
      "1234\n"
     ]
    }
   ],
   "source": [
    "n = int(input())\n",
    "\n",
    "for i in range(1, n+1):\n",
    "    for j in range(i-1):\n",
    "        print(\" \", end = \"\")\n",
    "    \n",
    "    for k in range(i, n+1):\n",
    "        print(k, end = \"\")\n",
    "    print()\n",
    "    \n",
    "for l in range(1, n):\n",
    "    for m in range(n-l-1):\n",
    "        print(\" \", end = \"\")\n",
    "    \n",
    "    for o in range(n-l, n+1):\n",
    "        print(o, end = \"\")\n",
    "    print()"
   ]
  },
  {
   "cell_type": "markdown",
   "metadata": {},
   "source": [
    "# 19. Problem : Diamond of Stars"
   ]
  },
  {
   "cell_type": "raw",
   "metadata": {},
   "source": [
    "Print the following pattern for the given number of rows.\n",
    "Assume, N is always odd.\n",
    "Pattern for N = 7\n",
    "   *\n",
    "  ***\n",
    " *****\n",
    "*******\n",
    " *****\n",
    "  ***\n",
    "   *\n",
    "   \n",
    "Input format : N (Total no. of rows and can only be odd)\n",
    "Output format : Pattern in N lines\n",
    "\n",
    "Sample Input :\n",
    "5\n",
    "\n",
    "Sample Output :\n",
    "  *\n",
    " ***\n",
    "*****\n",
    " ***\n",
    "  *"
   ]
  },
  {
   "cell_type": "markdown",
   "metadata": {},
   "source": [
    "### Python Code"
   ]
  },
  {
   "cell_type": "code",
   "execution_count": 12,
   "metadata": {},
   "outputs": [
    {
     "name": "stdout",
     "output_type": "stream",
     "text": [
      "5\n",
      "  *\n",
      " ***\n",
      "*****\n",
      " ***\n",
      "  *\n"
     ]
    }
   ],
   "source": [
    "m = int(input())\n",
    "\n",
    "n = int((m+1)/ 2)\n",
    "for i in range(1, n+1):\n",
    "    for s in range (n-i):\n",
    "        print(\" \", end = '')\n",
    "    \n",
    "    for j in range (2*i-1):\n",
    "        print(\"*\", end = '')\n",
    "    print()\n",
    "  \n",
    "o = int((m-1)/ 2)\n",
    "\n",
    "for i in range (o, 0, -1):\n",
    "    for s in range (o-i+1):\n",
    "        print(\" \", end = '')\n",
    "    \n",
    "    for j in range (2*i-1):\n",
    "        print(\"*\", end = '')\n",
    "    print()"
   ]
  },
  {
   "cell_type": "markdown",
   "metadata": {},
   "source": [
    "# 21. Problem : Rectangular numbers"
   ]
  },
  {
   "cell_type": "raw",
   "metadata": {},
   "source": [
    "Print the following pattern for the given number of rows.\n",
    "Pattern for N = 4\n",
    "4444444\n",
    "4333334\n",
    "4322234\n",
    "4321234\n",
    "4322234\n",
    "4333334  \n",
    "4444444\n",
    "\n",
    "Input format : N (Total no. of rows)\n",
    "Output format : Pattern in N lines\n",
    "\n",
    "Sample Input :\n",
    "3\n",
    "\n",
    "Sample Output :\n",
    "33333\n",
    "32223\n",
    "32123\n",
    "32223\n",
    "33333"
   ]
  },
  {
   "cell_type": "markdown",
   "metadata": {},
   "source": [
    "### Python Code"
   ]
  },
  {
   "cell_type": "code",
   "execution_count": 13,
   "metadata": {},
   "outputs": [
    {
     "name": "stdout",
     "output_type": "stream",
     "text": [
      "7\n",
      "7777777777777\n",
      "7666666666667\n",
      "7655555555567\n",
      "7654444444567\n",
      "7654333334567\n",
      "7654322234567\n",
      "7654321234567\n",
      "7654322234567\n",
      "7654333334567\n",
      "7654444444567\n",
      "7655555555567\n",
      "7666666666667\n",
      "7777777777777\n"
     ]
    }
   ],
   "source": [
    "m = int(input())\n",
    "\n",
    "n = m\n",
    "for i in range (1, n+1):\n",
    "    for x in range (n, n-i, -1):\n",
    "        print(x, end = '')\n",
    "    \n",
    "    for y in range(2*n-2*i, 0, -1):\n",
    "        print(n-i+1, end = '')\n",
    "        \n",
    "    for z in range (n-i+2, n+1, 1):\n",
    "        print(z, end = '')\n",
    "    print()\n",
    "    \n",
    "p = m - 1\n",
    "for r in range(1, p+1):\n",
    "    for s in range(p+1, r, -1):\n",
    "        print(s, end = '')\n",
    "        \n",
    "    for t in range(2*r-1):\n",
    "        print(r+1, end = '')\n",
    "        \n",
    "    for u in range(r+1, p+2, 1):\n",
    "        print(u, end = '')\n",
    "    print()"
   ]
  },
  {
   "cell_type": "markdown",
   "metadata": {},
   "source": [
    "# 22. Problem : Print the pattern"
   ]
  },
  {
   "cell_type": "raw",
   "metadata": {},
   "source": [
    "Print the following pattern for the given number of rows.\n",
    "Pattern for N = 5\n",
    " 1    2   3    4   5\n",
    " 11   12  13   14  15\n",
    " 21   22  23   24  25\n",
    " 16   17  18   19  20\n",
    " 6    7    8   9   10\n",
    " \n",
    "Input format : N (Total no. of rows)\n",
    "Output format : Pattern in N lines\n",
    "\n",
    "Sample Input :\n",
    "4\n",
    "\n",
    "Sample Output :\n",
    " 1  2  3  4\n",
    " 9 10 11 12\n",
    "13 14 15 16\n",
    " 5  6  7  8"
   ]
  },
  {
   "cell_type": "markdown",
   "metadata": {},
   "source": [
    "### Python Code"
   ]
  },
  {
   "cell_type": "code",
   "execution_count": 16,
   "metadata": {},
   "outputs": [
    {
     "name": "stdout",
     "output_type": "stream",
     "text": [
      "7\n",
      "1 2 3 4 5 6 7 \n",
      "15 16 17 18 19 20 21 \n",
      "29 30 31 32 33 34 35 \n",
      "43 44 45 46 47 48 49 \n",
      "36 37 38 39 40 41 42 \n",
      "22 23 24 25 26 27 28 \n",
      "8 9 10 11 12 13 14 \n"
     ]
    }
   ],
   "source": [
    "m = int(input())\n",
    "\n",
    "if (m%2 == 0):\n",
    "    n = int(m/2)\n",
    "else:\n",
    "    n = int((m+1)/2)\n",
    "\n",
    "p = 1\n",
    "for i in range (1, n+1):\n",
    "    if (i > 1):\n",
    "        p = p + 2*m\n",
    "        \n",
    "    for j in range (p, p+m):\n",
    "        print(j, end = ' ')\n",
    "    print()\n",
    "\n",
    "if (m%2 == 0):\n",
    "    p = p + m\n",
    "else:\n",
    "    p = p - m\n",
    "    \n",
    "for x in range(1, m-n+1):\n",
    "    for y in range (p, p+m):\n",
    "        print(y, end=' ')\n",
    "        \n",
    "    p = p - 2*m\n",
    "    print()"
   ]
  }
 ],
 "metadata": {
  "kernelspec": {
   "display_name": "Python 3",
   "language": "python",
   "name": "python3"
  },
  "language_info": {
   "codemirror_mode": {
    "name": "ipython",
    "version": 3
   },
   "file_extension": ".py",
   "mimetype": "text/x-python",
   "name": "python",
   "nbconvert_exporter": "python",
   "pygments_lexer": "ipython3",
   "version": "3.7.3"
  }
 },
 "nbformat": 4,
 "nbformat_minor": 2
}
