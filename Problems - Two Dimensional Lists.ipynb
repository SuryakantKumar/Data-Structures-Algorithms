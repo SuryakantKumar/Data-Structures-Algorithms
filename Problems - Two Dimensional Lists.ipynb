{
 "cells": [
  {
   "cell_type": "markdown",
   "metadata": {},
   "source": [
    "# 15. problem : Row Wise Sum"
   ]
  },
  {
   "cell_type": "raw",
   "metadata": {},
   "source": [
    "Given a 2D integer array of size M*N, find and print the sum of ith row elements separated by space.\n",
    "\n",
    "Input Format : Line 1 : Two integers M and N (separated by space) \n",
    "               Line 2 : Matrix elements of each row (separated by space)\n",
    "Output Format : Sum of every ith row elements (separated by space)\n",
    "Constraints : 1 <= M, N <= 10^3\n",
    "\n",
    "Sample Input :\n",
    "4 2 \n",
    "1 2 3 4 5 6 7 8\n",
    "\n",
    "Sample Output :\n",
    "3 7 11 15"
   ]
  },
  {
   "cell_type": "markdown",
   "metadata": {},
   "source": [
    "### Python Code"
   ]
  },
  {
   "cell_type": "code",
   "execution_count": 8,
   "metadata": {},
   "outputs": [
    {
     "name": "stdout",
     "output_type": "stream",
     "text": [
      "4 2 \n",
      "1 2 3 4 5 6 7 8\n",
      "3 7 11 15 "
     ]
    }
   ],
   "source": [
    "mn_value = [int(ele) for ele in input().strip().split()]\n",
    "n ,m = mn_value[0], mn_value[1]\n",
    "\n",
    "# n, m = (int(ele) for ele in input().strip().split())\n",
    "\n",
    "array_input = [int(x) for x in input().strip().split()]\n",
    "array_2d = [[array_input[m*i+j] for j in range(m)] for i in range(n)]\n",
    "\n",
    "for i in range(n):\n",
    "    sum = 0\n",
    "    for j in range(m):\n",
    "        sum += array_2d[i][j]\n",
    "    print(sum, end=\" \")\n",
    "        "
   ]
  },
  {
   "cell_type": "markdown",
   "metadata": {},
   "source": [
    "# 18. problem : Largest Row or Column"
   ]
  },
  {
   "cell_type": "raw",
   "metadata": {},
   "source": [
    "Given an NxM 2D array, you need to find out which row or column has largest sum (sum of its elements) overall amongst all rows and columns.\n",
    "\n",
    "Input Format : Line 1 : 2 integers N and M respectively, separated by space\n",
    "               Line 2: Single line having N*M elements entered in row wise manner, each separated by space.\n",
    "Output Format : If row sum is maximum then - \"row\" row_num max_sum\n",
    "                If column sum is maximum then - \"column\" col_num max_sum\n",
    "                \n",
    "Note : If there are more than one rows/columns with maximum sum consider the row/column that comes first. And if ith row and jth column has same sum (which is largest), consider the ith row as answer.\n",
    "\n",
    "Sample Input 1 :\n",
    "2 2 \n",
    "1 1 1 1\n",
    "\n",
    "Sample Output 1 :\n",
    "row 0 2\n",
    "\n",
    "Sample Input 2 :\n",
    "3 3\n",
    "3 6 9 1 4 7 2 8 9\n",
    "\n",
    "Sample Output 2 :\n",
    "column 2 25"
   ]
  },
  {
   "cell_type": "markdown",
   "metadata": {},
   "source": [
    "### Python Code"
   ]
  },
  {
   "cell_type": "code",
   "execution_count": 7,
   "metadata": {
    "scrolled": true
   },
   "outputs": [
    {
     "name": "stdout",
     "output_type": "stream",
     "text": [
      "3 3 \n",
      "3 6 9 1 4 7 2 8 9\n",
      "column 2 25\n"
     ]
    }
   ],
   "source": [
    "n, m = (int(x) for x in input().strip().split())\n",
    "\n",
    "array = [int(x) for x in input().split()]\n",
    "array_2d = [[array[m*i+j] for j in range(m)] for i in range(n)]\n",
    "\n",
    "max_row_sum = 0\n",
    "row_no = -1\n",
    "for i in range(n):\n",
    "    row_sum = 0\n",
    "    for j in range(m):\n",
    "        row_sum += array_2d[i][j]\n",
    "    if max_row_sum < row_sum:\n",
    "        max_row_sum = row_sum\n",
    "        row_no = i\n",
    "\n",
    "max_col_sum = 0\n",
    "col_no = -1\n",
    "for j in range(m):\n",
    "    col_sum = 0\n",
    "    for i in range(n):\n",
    "        col_sum += array_2d[i][j]\n",
    "    if max_col_sum < col_sum:\n",
    "        max_col_sum = col_sum\n",
    "        col_no = j\n",
    "        \n",
    "if max_row_sum >= max_col_sum:\n",
    "    print(\"row\" + \" \" + str(row_no) + \" \" + str(max_row_sum))\n",
    "else:\n",
    "    print(\"column\" + \" \" + str(col_no) + \" \" + str(max_col_sum))"
   ]
  },
  {
   "cell_type": "markdown",
   "metadata": {},
   "source": [
    "# 19. Problem : Wave Print"
   ]
  },
  {
   "cell_type": "raw",
   "metadata": {},
   "source": [
    "Given a two dimensional n*m array, print the array in a sine wave order. i.e. print the first column top to bottom, next column bottom to top and so on.\n",
    "\n",
    "Note : Print the elements separated by space.\n",
    "\n",
    "Input format : n, m, array elements (separated by space)\n",
    "Sample Input : \n",
    "3 4 1 2 3 4 5 6 7 8 9 10 11 12\n",
    "\n",
    "Sample Output :\n",
    "1 5 9 10 6 2 3 7 11 12 8 4"
   ]
  },
  {
   "cell_type": "markdown",
   "metadata": {},
   "source": [
    "### Python Code"
   ]
  },
  {
   "cell_type": "code",
   "execution_count": 9,
   "metadata": {},
   "outputs": [
    {
     "name": "stdout",
     "output_type": "stream",
     "text": [
      "3 4 1 2 3 4 5 6 7 8 9 10 11 12\n",
      "1 5 9 10 6 2 3 7 11 12 8 4 "
     ]
    }
   ],
   "source": [
    "n_m_array = [int(x) for x in input().strip().split()]\n",
    "n, m = n_m_array[0], n_m_array[1] \n",
    "array = n_m_array[2:]\n",
    "array_2d = [[array[m*i+j] for j in range(m)] for i in range(n)]\n",
    "\n",
    "for j in range(m):\n",
    "    if j % 2 == 0:\n",
    "        for i in range(n):\n",
    "            print(array_2d[i][j], end = \" \")\n",
    "    else:\n",
    "        for k in range(n-1, -1, -1):\n",
    "            print(array_2d[k][j], end = \" \")"
   ]
  },
  {
   "cell_type": "markdown",
   "metadata": {},
   "source": [
    "# 21. Problem : Spiral Print"
   ]
  },
  {
   "cell_type": "raw",
   "metadata": {},
   "source": [
    "Given an N*M 2D array, print it in spiral form. That is, first you need to print the 1st row, then last column, then last row and then first column and so on.\n",
    "\n",
    "Print every element only once.\n",
    "\n",
    "Input format : Line 1 : N and M, No. of rows & No. of columns (separated by space) followed by N*M  elements in row wise fashion.\n",
    "\n",
    "Sample Input :\n",
    "4 4 1 2 3 4 5 6 7 8 9 10 11 12 13 14 15 16\n",
    "\n",
    "Sample Output :\n",
    "1 2 3 4 8 12 16 15 14 13 9 5 6 7 11 10"
   ]
  },
  {
   "cell_type": "markdown",
   "metadata": {},
   "source": [
    "### Python Code"
   ]
  },
  {
   "cell_type": "code",
   "execution_count": 1,
   "metadata": {},
   "outputs": [
    {
     "name": "stdout",
     "output_type": "stream",
     "text": [
      "4 4 1 2 3 4 5 6 7 8 9 10 11 12 13 14 15 16\n",
      "1 2 3 4 8 12 16 15 14 13 9 5 6 7 11 10\n"
     ]
    }
   ],
   "source": [
    "n_m_array = [int(x) for x in input().strip().split()]\n",
    "n, m = n_m_array[0], n_m_array[1] \n",
    "array = n_m_array[2:]\n",
    "array_2d = [[array[m*i+j] for j in range(m)] for i in range(n)]\n",
    "\n",
    "new_arr = []\n",
    "def spiralPrint(array_2d):\n",
    "    count = 0\n",
    "    cs = 0\n",
    "    ce = m - 1\n",
    "    rs = 0\n",
    "    re = n - 1\n",
    "    while (count < m*n):\n",
    "        for i in range(cs, ce + 1):\n",
    "            new_arr.append(array_2d[rs][i])\n",
    "            count += 1\n",
    "        rs += 1\n",
    "        \n",
    "        for j in range(rs, re + 1):\n",
    "            new_arr.append(array_2d[j][ce])\n",
    "            count += 1\n",
    "        ce -= 1\n",
    "        \n",
    "        for k in range(ce, cs - 1, -1):\n",
    "            new_arr.append(array_2d[re][k])\n",
    "            count += 1\n",
    "        re -= 1\n",
    "        \n",
    "        for l in range(re, rs - 1, -1):\n",
    "            new_arr.append(array_2d[l][cs])\n",
    "            count += 1\n",
    "        cs += 1\n",
    "    return new_arr\n",
    "  \n",
    "result = spiralPrint(array_2d)\n",
    "print(*result)"
   ]
  }
 ],
 "metadata": {
  "kernelspec": {
   "display_name": "Python 3",
   "language": "python",
   "name": "python3"
  },
  "language_info": {
   "codemirror_mode": {
    "name": "ipython",
    "version": 3
   },
   "file_extension": ".py",
   "mimetype": "text/x-python",
   "name": "python",
   "nbconvert_exporter": "python",
   "pygments_lexer": "ipython3",
   "version": "3.7.3"
  }
 },
 "nbformat": 4,
 "nbformat_minor": 2
}
