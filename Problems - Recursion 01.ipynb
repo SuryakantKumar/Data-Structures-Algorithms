{
 "cells": [
  {
   "cell_type": "markdown",
   "metadata": {},
   "source": [
    "# Problem : Factorial of A Number"
   ]
  },
  {
   "cell_type": "raw",
   "metadata": {},
   "source": [
    "Find Factorial of a number given as the input using recursion.\n",
    "\n",
    "Input format : One integer x\n",
    "Output Format : x! (i.e. factorial of x)\n",
    "\n",
    "Sample Input 1 :\n",
    "5\n",
    "\n",
    "Sample Output 1 :\n",
    "120"
   ]
  },
  {
   "cell_type": "markdown",
   "metadata": {},
   "source": [
    "### Python Code"
   ]
  },
  {
   "cell_type": "code",
   "execution_count": 4,
   "metadata": {},
   "outputs": [
    {
     "name": "stdout",
     "output_type": "stream",
     "text": [
      "5\n",
      "120\n"
     ]
    }
   ],
   "source": [
    "def factorial(n):\n",
    "    if n == 0:                    # Base case or rivial case\n",
    "        return 1\n",
    "    \n",
    "    smallFactorial = factorial(n-1)  # Induction Hypothesis\n",
    "    return smallFactorial * n        # Induction Step\n",
    "    \n",
    "n = int(input())\n",
    "result = factorial(n)\n",
    "print(result)"
   ]
  },
  {
   "cell_type": "markdown",
   "metadata": {},
   "source": [
    "# Problem : Sum Of N natural Numbers"
   ]
  },
  {
   "cell_type": "raw",
   "metadata": {},
   "source": [
    "Find sum of n natural numbers using recursion.\n",
    "\n",
    "Input format : One integer n\n",
    "Output Format: ∑n (i.e, Sum of n natural numbers)\n",
    "\n",
    "Sample Input 1 :\n",
    "5\n",
    "\n",
    "Sample Output 1 :\n",
    "15"
   ]
  },
  {
   "cell_type": "markdown",
   "metadata": {},
   "source": [
    "### Python Code"
   ]
  },
  {
   "cell_type": "code",
   "execution_count": 5,
   "metadata": {},
   "outputs": [
    {
     "name": "stdout",
     "output_type": "stream",
     "text": [
      "5\n",
      "15\n"
     ]
    }
   ],
   "source": [
    "def Sum(n):\n",
    "    if n == 1:\n",
    "        return 1\n",
    "    \n",
    "    smallSum = Sum(n-1)\n",
    "    return smallSum + n\n",
    "    \n",
    "n = int(input())\n",
    "result = Sum(n)\n",
    "print(result)"
   ]
  },
  {
   "cell_type": "markdown",
   "metadata": {},
   "source": [
    "# 04. Problem : Power Of A Number"
   ]
  },
  {
   "cell_type": "raw",
   "metadata": {},
   "source": [
    "Write a program to find x to the power n (i.e. x^n). Take x and n from the user. You need to print the answer.\n",
    "\n",
    "Input format : Two integers x and n (separated by space)\n",
    "Output Format : x^n (i.e. x raise to the power n)\n",
    "\n",
    "Sample Input 1 :\n",
    "3 4\n",
    "\n",
    "Sample Output 1 :\n",
    "81\n",
    "\n",
    "Sample Input 2 :\n",
    "2 5\n",
    "\n",
    "Sample Output 2 :\n",
    "32"
   ]
  },
  {
   "cell_type": "markdown",
   "metadata": {},
   "source": [
    "### Python Code"
   ]
  },
  {
   "cell_type": "code",
   "execution_count": 6,
   "metadata": {},
   "outputs": [
    {
     "name": "stdout",
     "output_type": "stream",
     "text": [
      "2 10\n",
      "1024\n"
     ]
    }
   ],
   "source": [
    "x, n = (int(x) for x in input().strip().split())\n",
    "\n",
    "def Power(x, n):\n",
    "    if n == 0:\n",
    "        return 1\n",
    "    \n",
    "    if n == 1:\n",
    "        return x\n",
    "    \n",
    "    smallPower = Power(x, n-1)\n",
    "    return smallPower * x\n",
    "\n",
    "result = Power(x, n)\n",
    "print(result)"
   ]
  },
  {
   "cell_type": "markdown",
   "metadata": {},
   "source": [
    "# Problem : Print First N natural Numbers"
   ]
  },
  {
   "cell_type": "raw",
   "metadata": {},
   "source": [
    "Print first n natural numbers using recursion.\n",
    "\n",
    "Sample Input 1 :\n",
    "5\n",
    "\n",
    "Sample Output 1 :\n",
    "1 2 3 4 5"
   ]
  },
  {
   "cell_type": "markdown",
   "metadata": {},
   "source": [
    "### Python Code"
   ]
  },
  {
   "cell_type": "code",
   "execution_count": 12,
   "metadata": {},
   "outputs": [
    {
     "name": "stdout",
     "output_type": "stream",
     "text": [
      "5\n",
      "1 2 3 4 5 "
     ]
    }
   ],
   "source": [
    "def Print_1_To_N(n):\n",
    "    if n == 0:\n",
    "        return\n",
    "    \n",
    "    Print_1_To_N(n-1)\n",
    "    print(n, end=' ')\n",
    "    \n",
    "n = int(input())\n",
    "Print_1_To_N(n)"
   ]
  },
  {
   "cell_type": "markdown",
   "metadata": {},
   "source": [
    "# Problem : Print First N natural Numbers in Reverse"
   ]
  },
  {
   "cell_type": "raw",
   "metadata": {},
   "source": [
    "Print first n natural numbers in reverse using recursion.\n",
    "\n",
    "Sample Input 1 :\n",
    "5\n",
    "\n",
    "Sample Output 1 :\n",
    "5 4 3 2 1"
   ]
  },
  {
   "cell_type": "code",
   "execution_count": 16,
   "metadata": {},
   "outputs": [
    {
     "name": "stdout",
     "output_type": "stream",
     "text": [
      "10\n",
      "10 9 8 7 6 5 4 3 2 1 "
     ]
    }
   ],
   "source": [
    "def ReversePrint(n):\n",
    "    if n == 0:\n",
    "        return\n",
    "    \n",
    "    print(n, end = ' ')\n",
    "    ReversePrint(n-1)\n",
    "    \n",
    "n = int(input())\n",
    "ReversePrint(n)"
   ]
  },
  {
   "cell_type": "markdown",
   "metadata": {},
   "source": [
    "# Problem : Nth Fibonacci Number"
   ]
  },
  {
   "cell_type": "raw",
   "metadata": {},
   "source": [
    "find nth fibonacci number of fibonacci series using recursion.\n",
    "Fibonacci series : 1, 1, 2, 3, 5, 8, 13 .....\n",
    "\n",
    "Sample Input 1 :\n",
    "5\n",
    "\n",
    "Sample Output 1 :\n",
    "5"
   ]
  },
  {
   "cell_type": "markdown",
   "metadata": {},
   "source": [
    "### Python Code"
   ]
  },
  {
   "cell_type": "code",
   "execution_count": 18,
   "metadata": {},
   "outputs": [
    {
     "name": "stdout",
     "output_type": "stream",
     "text": [
      "7\n",
      "13\n"
     ]
    }
   ],
   "source": [
    "def fibonacci(n):\n",
    "    if n == 1 or n == 2:       # Fibonacci series : 1,1,2,3,5,8,13...\n",
    "        return 1\n",
    "    \n",
    "    fib_n_1 = fibonacci(n-1)\n",
    "    fib_n_2 = fibonacci(n-2)\n",
    "    output = fib_n_1 + fib_n_2\n",
    "    return output\n",
    "    \n",
    "n = int(input())\n",
    "result = fibonacci(n)\n",
    "print(result)"
   ]
  },
  {
   "cell_type": "markdown",
   "metadata": {},
   "source": [
    "# Problem : Check if the list is sorted or not ?"
   ]
  },
  {
   "cell_type": "raw",
   "metadata": {},
   "source": [
    "Given a list. Check if it is sorted or not ?\n",
    "\n",
    "Sample Input 1 :\n",
    "5 7 9 10\n",
    "\n",
    "Sample Output 1 :\n",
    "true\n",
    "\n",
    "Sample Input 2 :\n",
    "5 7 3 11 2\n",
    "\n",
    "Sample Output 2 :\n",
    "false"
   ]
  },
  {
   "cell_type": "markdown",
   "metadata": {},
   "source": [
    "### Python Code 01"
   ]
  },
  {
   "cell_type": "code",
   "execution_count": 25,
   "metadata": {},
   "outputs": [
    {
     "name": "stdout",
     "output_type": "stream",
     "text": [
      "1 2 3 4 5 6\n",
      "true\n"
     ]
    }
   ],
   "source": [
    "def isSorted(li):\n",
    "    length = len(li)\n",
    "    if length == 0 or length == 1:\n",
    "        return True\n",
    "    \n",
    "    if li[0] > li[1]:\n",
    "        return False\n",
    "    \n",
    "    smallerList = li[1:]\n",
    "    return isSorted(smallerList)\n",
    "    \n",
    "li = [int(x) for x in input().strip().split()]\n",
    "if isSorted(li):\n",
    "    print('true')\n",
    "else:\n",
    "    print('false')"
   ]
  },
  {
   "cell_type": "markdown",
   "metadata": {},
   "source": [
    "### Python Code 02"
   ]
  },
  {
   "cell_type": "code",
   "execution_count": 34,
   "metadata": {},
   "outputs": [
    {
     "name": "stdout",
     "output_type": "stream",
     "text": [
      "2 4 5 8 1\n",
      "false\n"
     ]
    }
   ],
   "source": [
    "def isSortedOptimal(li, si):\n",
    "    length = len(li)\n",
    "    \n",
    "    if si == length-1 or si == length:        # Si means start index from where we started comparing\n",
    "        return True\n",
    "    \n",
    "    if li[si] > li[si+1]:\n",
    "        return False\n",
    "    \n",
    "    return isSortedOptimal(li, si + 1)\n",
    "    \n",
    "li = [int(x) for x in input().strip().split()]\n",
    "si = 0\n",
    "if isSortedOptimal(li, si):\n",
    "    print('true')\n",
    "else:\n",
    "    print('false')"
   ]
  },
  {
   "cell_type": "markdown",
   "metadata": {},
   "source": [
    "# 12. Problem : Sum Of Array"
   ]
  },
  {
   "cell_type": "raw",
   "metadata": {},
   "source": [
    "Given an array of length N, you need to find and return the sum of all elements of the array.\n",
    "Do this recursively.\n",
    "\n",
    "Input Format : Line 1 : An Integer N i.e. size of array\n",
    "               Line 2 : N integers which are elements of the array, separated by spaces\n",
    "Output Format : Sum\n",
    "Constraints : 1 <= N <= 10^3\n",
    "\n",
    "Sample Input :\n",
    "3\n",
    "9 8 9\n",
    "\n",
    "Sample Output :\n",
    "26"
   ]
  },
  {
   "cell_type": "markdown",
   "metadata": {},
   "source": [
    "### Python Code"
   ]
  },
  {
   "cell_type": "code",
   "execution_count": 27,
   "metadata": {},
   "outputs": [
    {
     "name": "stdout",
     "output_type": "stream",
     "text": [
      "4\n",
      "2 3 5 7\n",
      "17\n"
     ]
    }
   ],
   "source": [
    "n = int(input())\n",
    "li = [int(x) for x in input().strip().split()]\n",
    "\n",
    "def SumArray(n, li):\n",
    "    if n == 0:\n",
    "        return 0\n",
    "    \n",
    "    if n == 1:\n",
    "        return li[0]\n",
    "    \n",
    "    smallArray = li[1:]\n",
    "    return li[0] + SumArray(n-1, smallArray)\n",
    "ans = SumArray(n, li)\n",
    "print(ans)"
   ]
  },
  {
   "cell_type": "markdown",
   "metadata": {},
   "source": [
    "# 14. Problem : Check Number in Array"
   ]
  },
  {
   "cell_type": "raw",
   "metadata": {},
   "source": [
    "Given an array of length N and an integer x, you need to find if x is present in the array or not. Return true or false.\n",
    "Do this recursively.\n",
    "\n",
    "Input Format : Line 1 : An Integer N i.e. size of array\n",
    "               Line 2 : N integers which are elements of the array, separated by spaces\n",
    "               Line 3 : Integer x\n",
    "Output Format : true or false\n",
    "Constraints : 1 <= N <= 10^3\n",
    "\n",
    "Sample Input :\n",
    "3\n",
    "9 8 10\n",
    "8\n",
    "\n",
    "Sample Output :\n",
    "true"
   ]
  },
  {
   "cell_type": "markdown",
   "metadata": {},
   "source": [
    "### Python Code 01"
   ]
  },
  {
   "cell_type": "code",
   "execution_count": 10,
   "metadata": {},
   "outputs": [
    {
     "name": "stdout",
     "output_type": "stream",
     "text": [
      "4\n",
      "2 5 7 0\n",
      "7\n",
      "true\n"
     ]
    }
   ],
   "source": [
    "def CheckNumber(n, li, x):\n",
    "    if n == 0:\n",
    "        return False\n",
    "    \n",
    "    if li[0] == x:\n",
    "        return True\n",
    "    \n",
    "    return CheckNumber(n-1, li[1:], x)\n",
    "\n",
    "n = int(input())\n",
    "li = [int(x) for x in input().strip().split()]\n",
    "x = int(input())\n",
    "\n",
    "ans = CheckNumber(n, li, x)\n",
    "if ans:\n",
    "    print(\"true\")\n",
    "else:\n",
    "    print(\"false\")"
   ]
  },
  {
   "cell_type": "markdown",
   "metadata": {},
   "source": [
    "### Python Code 02"
   ]
  },
  {
   "cell_type": "code",
   "execution_count": 7,
   "metadata": {},
   "outputs": [
    {
     "name": "stdout",
     "output_type": "stream",
     "text": [
      "5\n",
      "1 2 3 4 5\n",
      "6\n",
      "false\n"
     ]
    }
   ],
   "source": [
    "def CheckNumber(n, li, x, si):\n",
    "    if si == n:\n",
    "        return False\n",
    "    \n",
    "    if li[si] == x:\n",
    "        return True\n",
    "    \n",
    "    return CheckNumber(n, li, x, si+1)\n",
    "\n",
    "n = int(input())\n",
    "li = [int(x) for x in input().strip().split()]\n",
    "x = int(input())\n",
    "si = 0\n",
    "\n",
    "print('true') if CheckNumber(n, li, x, si) == True else print('false')"
   ]
  },
  {
   "cell_type": "markdown",
   "metadata": {},
   "source": [
    "# 18. Problem : First Index of Number"
   ]
  },
  {
   "cell_type": "raw",
   "metadata": {},
   "source": [
    "Given an array of length N and an integer x, you need to find and return the first index of integer x present in the array. Return -1 if it is not present in the array.\n",
    "First index means, the index of first occurrence of x in the input array.\n",
    "Do this recursively. Indexing in the array starts from 0.\n",
    "\n",
    "Input Format : Line 1 : An Integer N i.e. size of array\n",
    "               Line 2 : N integers which are elements of the array, separated by spaces\n",
    "               Line 3 : Integer x\n",
    "Output Format : first index or -1\n",
    "Constraints : 1 <= N <= 10^3\n",
    "\n",
    "Sample Input :\n",
    "4\n",
    "9 8 10 8\n",
    "8\n",
    "\n",
    "Sample Output :\n",
    "1"
   ]
  },
  {
   "cell_type": "markdown",
   "metadata": {},
   "source": [
    "### Python code 01"
   ]
  },
  {
   "cell_type": "code",
   "execution_count": 41,
   "metadata": {},
   "outputs": [
    {
     "name": "stdout",
     "output_type": "stream",
     "text": [
      "6\n",
      "1 5 9 0 22 4\n",
      "0\n",
      "3\n"
     ]
    }
   ],
   "source": [
    "def FirstIndex(n, li, x):\n",
    "    if n == 0:             # Base case when list will get empty\n",
    "        return -1\n",
    "    \n",
    "    if li[0] == x:         # Base case when we found the element at 0th index of new array\n",
    "        return 0\n",
    "    \n",
    "    smallList = li[1:]     # Smaller list input\n",
    "    output = FirstIndex(n-1, smallList, x)\n",
    "    \n",
    "    if output == -1:\n",
    "        return -1\n",
    "    else:\n",
    "        return output + 1\n",
    "    \n",
    "n = int(input())\n",
    "li = [int(x) for x in input().strip().split()]\n",
    "x = int(input())\n",
    "print(FirstIndex(n, li, x))"
   ]
  },
  {
   "cell_type": "markdown",
   "metadata": {},
   "source": [
    "### Python Code 02"
   ]
  },
  {
   "cell_type": "code",
   "execution_count": 35,
   "metadata": {},
   "outputs": [
    {
     "name": "stdout",
     "output_type": "stream",
     "text": [
      "3\n",
      "2 5 8\n",
      "5\n",
      "1\n"
     ]
    }
   ],
   "source": [
    "def FirstIndexOptimal(n, li, x, si):\n",
    "    if si == n:               # Base case for empty list when start index crosses the last element of list\n",
    "        return -1\n",
    "    \n",
    "    if li[si] == x:           # When found the element at si \n",
    "        return si\n",
    "    \n",
    "    return FirstIndexOptimal(n, li, x, si+1)\n",
    "\n",
    "n = int(input())\n",
    "li = [int(x) for x in input().strip().split()]\n",
    "x = int(input())\n",
    "si = 0                                          # Start inex\n",
    "\n",
    "ans = FirstIndexOptimal(n, li, x, si)\n",
    "print(ans)"
   ]
  },
  {
   "cell_type": "markdown",
   "metadata": {},
   "source": [
    "# 21. problem : Last Index Of Number"
   ]
  },
  {
   "cell_type": "raw",
   "metadata": {},
   "source": [
    "Given an array of length N and an integer x, you need to find and return the last index of integer x present in the array. Return -1 if it is not present in the array.\n",
    "Last index means - if x is present multiple times in the array, return the index at which x comes last in the array.\n",
    "You should start traversing your array from 0, not from (N - 1).\n",
    "Do this recursively. Indexing in the array starts from 0.\n",
    "\n",
    "Input Format : Line 1 : An Integer N i.e. size of array\n",
    "               Line 2 : N integers which are elements of the array, separated by spaces\n",
    "               Line 3 : Integer x\n",
    "Output Format : last index or -1\n",
    "Constraints : 1 <= N <= 10^3\n",
    "\n",
    "Sample Input :\n",
    "4\n",
    "9 8 10 8\n",
    "8\n",
    "\n",
    "Sample Output :\n",
    "3"
   ]
  },
  {
   "cell_type": "markdown",
   "metadata": {},
   "source": [
    "### Python Code 01"
   ]
  },
  {
   "cell_type": "code",
   "execution_count": 44,
   "metadata": {},
   "outputs": [
    {
     "name": "stdout",
     "output_type": "stream",
     "text": [
      "5\n",
      "1 3 44 3 -1\n",
      "-1\n",
      "4\n"
     ]
    }
   ],
   "source": [
    "def LastIndex(n, li, x):\n",
    "    if n == 0:\n",
    "        return -1\n",
    "    \n",
    "    output = LastIndex(n-1, li[1:], x)\n",
    "    \n",
    "    if output != -1:\n",
    "        return 1 + output\n",
    "    else:\n",
    "        if li[0] == x:\n",
    "            return 0\n",
    "        else:\n",
    "            return -1\n",
    "    \n",
    "n = int(input())\n",
    "li = [int(x) for x in input().strip().split()]\n",
    "x = int(input())\n",
    "\n",
    "ans = LastIndex(n, li, x)\n",
    "print(ans)"
   ]
  },
  {
   "cell_type": "markdown",
   "metadata": {},
   "source": [
    "### Python Code 02"
   ]
  },
  {
   "cell_type": "code",
   "execution_count": 46,
   "metadata": {},
   "outputs": [
    {
     "name": "stdout",
     "output_type": "stream",
     "text": [
      "5\n",
      "1 2 3 4 5\n",
      "4\n",
      "3\n"
     ]
    }
   ],
   "source": [
    "def LastIndexOptimal(n, li, x, si):\n",
    "    if si == n:\n",
    "        return -1\n",
    "    \n",
    "    output = LastIndexOptimal(n, li, x, si+1)\n",
    "    \n",
    "    if output != -1:\n",
    "        return output\n",
    "    else:\n",
    "        if li[si] == x:\n",
    "            return si\n",
    "        else:\n",
    "            return -1\n",
    "\n",
    "n = int(input())\n",
    "li = [int(x) for x in input().strip().split()]\n",
    "x = int(input())\n",
    "si = 0\n",
    "result = LastIndexOptimal(n, li, x, si)\n",
    "print(result)"
   ]
  }
 ],
 "metadata": {
  "kernelspec": {
   "display_name": "Python 3",
   "language": "python",
   "name": "python3"
  },
  "language_info": {
   "codemirror_mode": {
    "name": "ipython",
    "version": 3
   },
   "file_extension": ".py",
   "mimetype": "text/x-python",
   "name": "python",
   "nbconvert_exporter": "python",
   "pygments_lexer": "ipython3",
   "version": "3.7.3"
  }
 },
 "nbformat": 4,
 "nbformat_minor": 2
}
