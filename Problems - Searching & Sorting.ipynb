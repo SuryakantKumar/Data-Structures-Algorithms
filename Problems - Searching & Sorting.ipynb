{
 "cells": [
  {
   "cell_type": "markdown",
   "metadata": {},
   "source": [
    "# 02. Problem : Code Binary Search"
   ]
  },
  {
   "cell_type": "raw",
   "metadata": {},
   "source": [
    "Given a sorted integer array (in ascending order) and an element x. You need to search this element x in the given input array using binary search. Return the index of element in the input.\n",
    "Indexing starts from 0.\n",
    "Return -1 if x is not present in the input array. \n",
    "\n",
    "Input format : Line 1 : Integer N, Array Size\n",
    "               Line 2 : Array elements (separated by space)\n",
    "               Line 3 : Element to be searched (i.e. x)\n",
    "Output Format : Index\n",
    "Constraints : 1 <= N <= 10^6\n",
    "\n",
    "Sample Input 1:\n",
    "7\n",
    "1 3 7 9 11 12 45\n",
    "3\n",
    "\n",
    "Sample Output 1:\n",
    "1\n",
    "\n",
    "Sample Input 2:\n",
    "7\n",
    "1 2 3 4 5 6 7\n",
    "9\n",
    "\n",
    "Sample Output 2:\n",
    "-1"
   ]
  },
  {
   "cell_type": "markdown",
   "metadata": {},
   "source": [
    "### Python Code"
   ]
  },
  {
   "cell_type": "code",
   "execution_count": 5,
   "metadata": {},
   "outputs": [
    {
     "name": "stdout",
     "output_type": "stream",
     "text": [
      "6\n",
      "1 2 3 4 5 6\n",
      "5\n",
      "4\n"
     ]
    }
   ],
   "source": [
    "n = int(input())\n",
    "li = [int(x) for x in input().strip().split()]\n",
    "ele = int(input())\n",
    "\n",
    "def BinarySeach(n, li, ele):\n",
    "    start = 0\n",
    "    end = n - 1\n",
    "\n",
    "    if ele < li[start] or ele > li[end]:      # If element not in list\n",
    "        return -1\n",
    "    while start <= end:\n",
    "        mid = (start + end)//2                # Mid\n",
    "        if li[mid] == ele:                    # Element Found\n",
    "            return mid\n",
    "        elif li[mid] < ele:                   # Element is on the right of mid\n",
    "            start = mid + 1\n",
    "        elif li[mid] > ele:                   # Element is on the left of mid\n",
    "            end = mid - 1\n",
    "    else:\n",
    "        return -1\n",
    "\n",
    "ans = BinarySeach(n, li, ele)\n",
    "print(ans)"
   ]
  },
  {
   "cell_type": "markdown",
   "metadata": {},
   "source": [
    "# Problem : Selection Sort"
   ]
  },
  {
   "cell_type": "raw",
   "metadata": {},
   "source": [
    "Given a random integer array. Sort this array using Selection sort.\n",
    "Change in the input array itself. You don't need to return or print elements.\n",
    "\n",
    "Input format : Line 1 : Integer N, Array Size \n",
    "               Line 2 : Array elements (separated by space)\n",
    "Constraints : 1 <= N <= 10^3\n",
    "\n",
    "Sample Input 1:\n",
    "7\n",
    "2 13 4 1 3 6 28\n",
    "\n",
    "Sample Output 1:\n",
    "1 2 3 4 6 13 28\n",
    "\n",
    "Sample Input 2:\n",
    "5\n",
    "9 3 6 2 0\n",
    "\n",
    "Sample Output 2:\n",
    "0 2 3 6 9"
   ]
  },
  {
   "cell_type": "markdown",
   "metadata": {},
   "source": [
    "### Python Code"
   ]
  },
  {
   "cell_type": "code",
   "execution_count": 10,
   "metadata": {},
   "outputs": [
    {
     "name": "stdout",
     "output_type": "stream",
     "text": [
      "5\n",
      "9 3 6 2 0\n",
      "0 2 3 6 9\n"
     ]
    }
   ],
   "source": [
    "n = int(input())\n",
    "li = [int(x) for x in input().split()]\n",
    "\n",
    "def SelectionSort(n, li):\n",
    "    for i in range(n-1):                # Run it n-1 times because last elemet will automatically be sorted\n",
    "        minIndex = i                    # Let first index is index with mininum value element\n",
    "        \n",
    "        for j in range(i+1, n):\n",
    "            if li[j] < li[minIndex]:    # If element we found is less than the minimum element then update min index\n",
    "                minIndex = j\n",
    "        li[i], li[minIndex] = li[minIndex], li[i]     # Swap minimum index value to put it on its correct place\n",
    "\n",
    "SelectionSort(n, li)\n",
    "print(*li)"
   ]
  },
  {
   "cell_type": "markdown",
   "metadata": {},
   "source": [
    "# 07. Problem : Code Bubble Sort"
   ]
  },
  {
   "cell_type": "raw",
   "metadata": {},
   "source": [
    "Given a random integer array. Sort this array using bubble sort.\n",
    "Change in the input array itself. You don't need to return or print elements.\n",
    "\n",
    "Input format : Line 1 : Integer N, Array Size \n",
    "               Line 2 : Array elements (separated by space)\n",
    "Constraints : 1 <= N <= 10^3\n",
    "\n",
    "Sample Input 1:\n",
    "7\n",
    "2 13 4 1 3 6 28\n",
    "\n",
    "Sample Output 1:\n",
    "1 2 3 4 6 13 28\n",
    "\n",
    "Sample Input 2:\n",
    "5\n",
    "9 3 6 2 0\n",
    "\n",
    "Sample Output 2:\n",
    "0 2 3 6 9"
   ]
  },
  {
   "cell_type": "markdown",
   "metadata": {},
   "source": [
    "### Python Code"
   ]
  },
  {
   "cell_type": "code",
   "execution_count": 11,
   "metadata": {},
   "outputs": [
    {
     "name": "stdout",
     "output_type": "stream",
     "text": [
      "7\n",
      " 1 6 4 -4 0 7 3\n",
      "-4 0 1 3 4 6 7\n"
     ]
    }
   ],
   "source": [
    "n = int(input())\n",
    "li = [int(x) for x in input().strip().split()]\n",
    "\n",
    "def BubbleSort(n, li):\n",
    "    for i in range(n-1):              # Run it n-1 times because first element will automatically be sorted\n",
    "        for j in range(n-i-1):        # We need to go till the last unsorted element only\n",
    "            if li[j] > li[j+1]:       # Compare two adjacent element\n",
    "                li[j], li[j+1] = li[j+1], li[j]        # Put largest element at the end\n",
    "                \n",
    "BubbleSort(n, li)\n",
    "print(*li)"
   ]
  },
  {
   "cell_type": "markdown",
   "metadata": {},
   "source": [
    "# 10. Problem : Code Insertion Sort"
   ]
  },
  {
   "cell_type": "raw",
   "metadata": {},
   "source": [
    "Given a random integer array. Sort this array using insertion sort.\n",
    "Change in the input array itself. You don't need to return or print elements.\n",
    "\n",
    "Input format : Line 1 : Integer N, Array Size\n",
    "               Line 2 : Array elements (separated by space)\n",
    "Constraints : 1 <= N <= 10^3\n",
    "\n",
    "Sample Input 1:\n",
    "7\n",
    "2 13 4 1 3 6 28\n",
    "\n",
    "Sample Output 1:\n",
    "1 2 3 4 6 13 28\n",
    "\n",
    "Sample Input 2:\n",
    "5\n",
    "9 3 6 2 0\n",
    "\n",
    "Sample Output 2:\n",
    "0 2 3 6 9"
   ]
  },
  {
   "cell_type": "markdown",
   "metadata": {},
   "source": [
    "### Python Code"
   ]
  },
  {
   "cell_type": "code",
   "execution_count": 11,
   "metadata": {},
   "outputs": [
    {
     "name": "stdout",
     "output_type": "stream",
     "text": [
      "8\n",
      " 9 5 0 6 3 8 6 3\n",
      "0 3 3 5 6 6 8 9\n"
     ]
    }
   ],
   "source": [
    "n = int(input())\n",
    "li = [int(x) for x in input().strip().split()]\n",
    "\n",
    "def InsertionSort(n, li):\n",
    "    for i in range(1, n):\n",
    "        consider = li[i]        # Choose one element \n",
    "        j = i - 1               # Last index of sorted lements\n",
    "        \n",
    "        while j >= 0 and li[j] > consider:     # Compare considered element with sorted elements in reverse\n",
    "            li[j+1] = li[j]                    # Shift element one index right\n",
    "            j = j - 1\n",
    "        li[j+1] = consider                     # Put considered element on right position\n",
    "\n",
    "InsertionSort(n, li)\n",
    "print(*li)"
   ]
  },
  {
   "cell_type": "markdown",
   "metadata": {},
   "source": [
    "# 13. problem : Code Merge Two Sorted Arrays"
   ]
  },
  {
   "cell_type": "raw",
   "metadata": {},
   "source": [
    "Given two sorted arrays of Size M and N respectively, merge them into a third array such that the third array is also sorted.\n",
    "\n",
    "Input Format : Line 1 : Size of first array i.e. M\n",
    "               Line 2 : M elements of first array separated by space\n",
    "               Line 3 : Size of second array i.e. N\n",
    "               Line 2 : N elements of second array separated by space\n",
    "Output Format : M + N integers i.e. elements of third sorted array separated by spaces.\n",
    "Constraints : 1 <= M, N <= 10^6\n",
    "\n",
    "Sample Input :\n",
    "5\n",
    "1 3 4 7 11\n",
    "4\n",
    "2 4 6 13\n",
    "\n",
    "Sample Output :\n",
    "1 2 3 4 4 6 7 11 13"
   ]
  },
  {
   "cell_type": "markdown",
   "metadata": {},
   "source": [
    "### Pyhton Code 01"
   ]
  },
  {
   "cell_type": "code",
   "execution_count": 29,
   "metadata": {},
   "outputs": [
    {
     "name": "stdout",
     "output_type": "stream",
     "text": [
      "5\n",
      "1 4 7 9 11\n",
      "4\n",
      "3 7 12 15\n",
      "1 3 4 7 7 9 11 12 15\n"
     ]
    }
   ],
   "source": [
    "def MergeTwoSortedArray(m, li1, n, li2):\n",
    "    new_li = [0]*(m+n)                   # Take new list of size (m + n)\n",
    "    \n",
    "    for i in range(m):                   # Copy elements of both lists into new list\n",
    "        new_li[i] = li1[i]\n",
    "    for j in range(m, m+n):\n",
    "        new_li[j] = li2[j-m]\n",
    "    \n",
    "    for i in range(len(new_li)-1):       # Apply Bubble Sort On New Array (Apply any sorting algorithm)\n",
    "        for j in range(len(new_li)-i-1):\n",
    "            if new_li[j] > new_li[j+1]:\n",
    "                new_li[j], new_li[j+1] = new_li[j+1], new_li[j]\n",
    "    return new_li\n",
    "\n",
    "m = int(input())\n",
    "li1 = [int(x) for x in input().strip().split()]\n",
    "n = int(input())\n",
    "li2 = [int(x) for x in input().strip().split()]\n",
    "\n",
    "x = MergeTwoSortedArray(m, li1, n, li2)\n",
    "print(*x)"
   ]
  },
  {
   "cell_type": "markdown",
   "metadata": {},
   "source": [
    "### Python Code 02"
   ]
  },
  {
   "cell_type": "code",
   "execution_count": 13,
   "metadata": {},
   "outputs": [
    {
     "name": "stdout",
     "output_type": "stream",
     "text": [
      "5\n",
      "1 3 4 7 11\n",
      "4 \n",
      "2 4 6 13\n",
      "1 2 3 4 4 6 7 11 13\n"
     ]
    }
   ],
   "source": [
    "m = int(input())\n",
    "li1 = [int(x) for x in input(). strip().split()]\n",
    "n = int(input())\n",
    "li2 = [int(x) for x in input(). strip().split()]\n",
    "\n",
    "def MergeTwoSortedArrays(m, li1, n, li2):\n",
    "    mergedArray = []\n",
    "    i = 0\n",
    "    j = 0\n",
    "    while i < m and j < n:                   # Fill new merged sorted array till one list is getting empty\n",
    "        if li1[i] <= li2[j]:\n",
    "            mergedArray.append(li1[i])\n",
    "            i += 1\n",
    "        else:\n",
    "            mergedArray.append(li2[j])\n",
    "            j += 1\n",
    "            \n",
    "    while i < m :                            # Fill with the elements directly if second array got empty\n",
    "        mergedArray.append(li1[i])\n",
    "        i += 1\n",
    "        \n",
    "    while j < n :                            # Fill with the elements directly if first array got empty          \n",
    "        mergedArray.append(li2[j]) \n",
    "        j += 1\n",
    "    return mergedArray\n",
    "        \n",
    "ans = MergeTwoSortedArrays(m, li1, n, li2)\n",
    "print(*ans)"
   ]
  },
  {
   "cell_type": "markdown",
   "metadata": {},
   "source": [
    "# 16. problem : Push Zeros to end"
   ]
  },
  {
   "cell_type": "raw",
   "metadata": {},
   "source": [
    "Given a random integer array, push all the zeros that are present to end of the array. The respective order of other elements should remain same.\n",
    "Change in the input array itself. You don't need to return or print elements. Don't use extra array.\n",
    "\n",
    "Note : You need to do this in one scan of array only.\n",
    "\n",
    "Input format : Line 1 : Integer N, Array Size \n",
    "               Line 2 : Array elements (separated by space)\n",
    "Output Format : Array elements (separated by space)\n",
    "Constraints : 1 <= N <= 10^6\n",
    "\n",
    "Sample Input 1:\n",
    "7\n",
    "2 0 4 1 3 0 28\n",
    "\n",
    "Sample Output 1:\n",
    "2 4 1 3 28 0 0\n",
    "\n",
    "Sample Input 2:\n",
    "5\n",
    "0 3 0 2 0\n",
    "\n",
    "Sample Output 2:\n",
    "3 2 0 0 0"
   ]
  },
  {
   "cell_type": "markdown",
   "metadata": {},
   "source": [
    "### Python code 01"
   ]
  },
  {
   "cell_type": "code",
   "execution_count": 32,
   "metadata": {},
   "outputs": [
    {
     "name": "stdout",
     "output_type": "stream",
     "text": [
      "6\n",
      "1 0 0 2 9 0\n",
      "1 2 9 0 0 0\n"
     ]
    }
   ],
   "source": [
    "def PushZeroesToEnd(n, li):\n",
    "    new_li = [0]*n\n",
    "    \n",
    "    nonZero = 0                        # Fill new list with all non-zero elements first\n",
    "    for i in range(n):\n",
    "        if li[i] != 0:\n",
    "            new_li[nonZero] = li[i]\n",
    "            nonZero += 1\n",
    "    \n",
    "    for k in range(nonZero+1, n):      # Fill all zeroes after all non-zeroes elements\n",
    "        new_li[k] = 0\n",
    "    return new_li\n",
    "    \n",
    "n = int(input())\n",
    "li = [int(x) for x in input().strip().split()]\n",
    "\n",
    "result = PushZeroesToEnd(n, li)\n",
    "print(*result)"
   ]
  },
  {
   "cell_type": "markdown",
   "metadata": {},
   "source": [
    "### Python Code 02"
   ]
  },
  {
   "cell_type": "code",
   "execution_count": 19,
   "metadata": {},
   "outputs": [
    {
     "name": "stdout",
     "output_type": "stream",
     "text": [
      "9\n",
      "1 0 0 0 3 5 6 7 8\n",
      "1 3 5 6 7 8 0 0 0\n"
     ]
    }
   ],
   "source": [
    "n = int(input())\n",
    "li = [int(x) for x in input().strip().split()]\n",
    "\n",
    "def PushZeroesToEnd(n, li):\n",
    "    i = 0\n",
    "    j = 0\n",
    "    while i < n:\n",
    "        if li[i] != 0 and li[j] != 0:\n",
    "            i += 1\n",
    "            j += 1\n",
    "        elif li[i] == 0 and li[j] == 0:\n",
    "            i += 1\n",
    "        elif li[i] != 0 and li[j] == 0:\n",
    "            li[i], li[j] = li[j], li[i]\n",
    "            i += 1\n",
    "            j += 1 \n",
    "\n",
    "PushZeroesToEnd(n, li)\n",
    "print(*li) "
   ]
  },
  {
   "cell_type": "markdown",
   "metadata": {},
   "source": [
    "# 18. Problem : Rotate array"
   ]
  },
  {
   "cell_type": "raw",
   "metadata": {},
   "source": [
    "Given a random integer array of size n, write a function that rotates the given array by d elements (towards left)\n",
    "Change in the input array itself. You don't need to return or print elements.\n",
    "\n",
    "Input format : Line 1 : Integer n (Array Size)\n",
    "               Line 2 : Array elements (separated by space)\n",
    "               Line 3 : Integer d\n",
    "Output Format : Updated array elements (separated by space)\n",
    "Constraints : 1 <= N <= 1000\n",
    "              1 <= d <= N\n",
    "Sample Input :\n",
    "7\n",
    "1 2 3 4 5 6 7\n",
    "2\n",
    "\n",
    "Sample Output :\n",
    "3 4 5 6 7 1 2"
   ]
  },
  {
   "cell_type": "markdown",
   "metadata": {},
   "source": [
    "### Python Code 01"
   ]
  },
  {
   "cell_type": "code",
   "execution_count": 30,
   "metadata": {},
   "outputs": [
    {
     "name": "stdout",
     "output_type": "stream",
     "text": [
      "9\n",
      "1 2 3 4 5 6 7 8 9\n",
      "4\n",
      "5 6 7 8 9 1 2 3 4\n"
     ]
    }
   ],
   "source": [
    "def Rotate(arr, d):\n",
    "    k = 0\n",
    "    while k < d:                   # Loop runs as same time as the position of shifting\n",
    "        temp = arr[0]              # Storing first element to be rotated\n",
    "        \n",
    "        for i in range(0, n-1):    # Shift n-1 elements to left\n",
    "            arr[i] = arr[i+1]\n",
    "            \n",
    "        arr[n-1] = temp            # Restore first element to last index\n",
    "        k = k + 1\n",
    "\n",
    "n = int(input())\n",
    "arr = list(int(i) for i in input().strip().split(\" \"))\n",
    "d = int(input())\n",
    "Rotate(arr, d)\n",
    "print(*arr)"
   ]
  },
  {
   "cell_type": "markdown",
   "metadata": {},
   "source": [
    "### Python Code 02"
   ]
  },
  {
   "cell_type": "code",
   "execution_count": 33,
   "metadata": {},
   "outputs": [
    {
     "name": "stdout",
     "output_type": "stream",
     "text": [
      "6\n",
      "1 2 3 4 5 6\n",
      "3\n",
      "4 5 6 1 2 3\n"
     ]
    }
   ],
   "source": [
    "def Rotate(n, li, d):\n",
    "    storage = [0]*d               # Store first d elements\n",
    "    for i in range(d):\n",
    "        storage[i] = li[i]\n",
    "        \n",
    "    for j in range(n-d):          # Shift elemets to d position left\n",
    "        li[j] = li[j+d]\n",
    "    \n",
    "    count = 0                     # Fill storage elements at the end\n",
    "    for k in range(n-d, n):\n",
    "        li[k] = storage[count]\n",
    "        count += 1\n",
    "\n",
    "n = int(input())\n",
    "li = [int(x) for x in input().strip().split()]\n",
    "d = int(input())\n",
    "\n",
    "Rotate(n, li, d)\n",
    "print(*li)"
   ]
  },
  {
   "cell_type": "markdown",
   "metadata": {},
   "source": [
    "### Python Code 03"
   ]
  },
  {
   "cell_type": "code",
   "execution_count": 31,
   "metadata": {},
   "outputs": [
    {
     "name": "stdout",
     "output_type": "stream",
     "text": [
      "7\n",
      "1 2 3 4 5 6 7\n",
      "4\n",
      "5 6 7 1 2 3 4\n"
     ]
    }
   ],
   "source": [
    "n = int(input())\n",
    "li = [int(x) for x in input().strip().split()] \n",
    "d = int(input())\n",
    "\n",
    "def RotateArray(n, li, d):\n",
    "    for i in range(0, n//2):                         #Reverse all elements\n",
    "        li[i], li[n-i-1] = li[n-i-1], li[i]\n",
    "    for j in range(0, (n-d)//2):                     #Reverse n-d elements\n",
    "        li[j], li[n-d-j-1] = li[n-d-j-1], li[j]\n",
    "    for k in range((d)//2):                          #Reverse last d elements\n",
    "        li[n-d+k], li[n-k-1] = li[n-k-1], li[n-d+k]\n",
    "    \n",
    "RotateArray(n, li, d)\n",
    "print(*li)"
   ]
  },
  {
   "cell_type": "markdown",
   "metadata": {},
   "source": [
    "# 20. Problem : Second Largest in array"
   ]
  },
  {
   "cell_type": "raw",
   "metadata": {},
   "source": [
    "Given a random integer array of size n, find and return the second largest element present in the array.\n",
    "If n <= 1 or all elements are same in the array, return -2147483648 i.e. -2^31.\n",
    "\n",
    "Input format : Line 1 : Integer n (Array Size)\n",
    "               Line 2 : Array elements (separated by space)\n",
    "Output Format : Second largest element\n",
    "Constraints : 1 <= N <= 10^6\n",
    "\n",
    "Sample Input 1:\n",
    "7\n",
    "2 13 4 1 3 6 28\n",
    "\n",
    "Sample Output 1:\n",
    "13\n",
    "\n",
    "Sample Input 2:\n",
    "5\n",
    "9 3 6 2 9\n",
    "\n",
    "Sample Output 2:\n",
    "6\n",
    "\n",
    "Sample Input 3:\n",
    "2\n",
    "6 6\n",
    "\n",
    "Sample Output 3:\n",
    "-2147483648"
   ]
  },
  {
   "cell_type": "markdown",
   "metadata": {},
   "source": [
    "### Pyhton Code 01"
   ]
  },
  {
   "cell_type": "code",
   "execution_count": 36,
   "metadata": {},
   "outputs": [
    {
     "name": "stdout",
     "output_type": "stream",
     "text": [
      "7\n",
      "1 2 3 6 8 9 9\n",
      "8\n"
     ]
    }
   ],
   "source": [
    "def SecondLargest(n, li):\n",
    "    for i in range(n-1):                # Sort the array first\n",
    "        for j in range(n-i-1):\n",
    "            if li[j] > li[j+1]:\n",
    "                li[j], li[j+1] = li[j+1], li[j]\n",
    "    \n",
    "    largest = li[-1]\n",
    "    for ele in li[::-1]:                # find second largest from the end of the array\n",
    "        if ele < largest:\n",
    "            return ele\n",
    "    \n",
    "n = int(input())\n",
    "li = [int(x) for x in input().strip().split()]\n",
    "\n",
    "result = SecondLargest(n, li)\n",
    "print(result)"
   ]
  },
  {
   "cell_type": "markdown",
   "metadata": {},
   "source": [
    "### Python Code 02"
   ]
  },
  {
   "cell_type": "code",
   "execution_count": 35,
   "metadata": {},
   "outputs": [
    {
     "name": "stdout",
     "output_type": "stream",
     "text": [
      "7\n",
      "1 2 6 9 8 3 9\n",
      "8\n"
     ]
    }
   ],
   "source": [
    "def SecondLargest(n, li):\n",
    "    largest = -2**31\n",
    "    sec_largest = -2**31\n",
    "    \n",
    "    for i in range(n):\n",
    "        if li[i] > largest:                # Update largest and second largest when (element > largest element)\n",
    "            sec_largest = largest\n",
    "            largest = li[i]\n",
    "        elif  li[i] < largest:             # Update second largest only if (element < largest element but element > second largest)\n",
    "            if li[i] != largest and li[i] > sec_largest:\n",
    "                sec_largest = li[i]\n",
    "    return sec_largest\n",
    "\n",
    "    \n",
    "n = int(input())\n",
    "li = [int(x) for x in input().strip().split()]\n",
    "ans = SecondLargest(n, li)\n",
    "print(ans)"
   ]
  },
  {
   "cell_type": "markdown",
   "metadata": {},
   "source": [
    "# 22. Problem : Check array rotation"
   ]
  },
  {
   "cell_type": "raw",
   "metadata": {},
   "source": [
    "Given an integer array, which is sorted (in increasing order) and has been rotated by some number k in clockwise direction. Find and return the k.\n",
    "\n",
    "Input format : Line 1 : Integer n (Array Size)\n",
    "               Line 2 : Array elements (separated by space)\n",
    "Output Format : Integer k\n",
    "Constraints : 1 <= n <= 1000\n",
    "\n",
    "Sample Input 1:\n",
    "6\n",
    "5 6 1 2 3 4\n",
    "\n",
    "Sample Output 1:\n",
    "2\n",
    "\n",
    "Sample Input 2:\n",
    "5\n",
    "3 6 8 9 10\n",
    "\n",
    "Sample Output 2:\n",
    "0"
   ]
  },
  {
   "cell_type": "markdown",
   "metadata": {},
   "source": [
    "### Python Code"
   ]
  },
  {
   "cell_type": "code",
   "execution_count": 17,
   "metadata": {},
   "outputs": [
    {
     "name": "stdout",
     "output_type": "stream",
     "text": [
      "5\n",
      "1 2 3 4 7\n",
      "0\n"
     ]
    }
   ],
   "source": [
    "def ArrayRotation(n, li):\n",
    "    min_ele = li[0]\n",
    "    for i in range(0, n):\n",
    "        if min_ele > li[i]:\n",
    "            return i\n",
    "    return 0\n",
    "        \n",
    "n = int(input())\n",
    "li = [int(x) for x in input().strip().split()]\n",
    "ans = ArrayRotation(n, li)\n",
    "print(ans)"
   ]
  },
  {
   "cell_type": "markdown",
   "metadata": {},
   "source": [
    "# 23. Problem : Sort 0 1 2"
   ]
  },
  {
   "cell_type": "raw",
   "metadata": {},
   "source": [
    "You are given an integer array containing only 0s, 1s and 2s. Write a solution to sort this array using one scan only.\n",
    "You need to change in the given array itself. So no need to return or print anything.\n",
    "\n",
    "Input format : Line 1 : Integer n (Array Size)\n",
    "               Line 2 : Array elements (separated by space)\n",
    "Output Format : Updated array elements (separated by space)\n",
    "Constraints : 1 <= n <= 10^6\n",
    "\n",
    "Sample Input:\n",
    "7\n",
    "0 1 2 0 2 0 1\n",
    "\n",
    "Sample Output:\n",
    "0 0 0 1 1 2 2"
   ]
  },
  {
   "cell_type": "markdown",
   "metadata": {},
   "source": [
    "### Python Code 01"
   ]
  },
  {
   "cell_type": "code",
   "execution_count": 21,
   "metadata": {},
   "outputs": [
    {
     "name": "stdout",
     "output_type": "stream",
     "text": [
      "8\n",
      "2 0 1 2 0 1 2 1\n",
      "0 0 1 1 1 2 2 2\n"
     ]
    }
   ],
   "source": [
    "def Sort012(n, li):\n",
    "    count0 = 0\n",
    "    count1 = 0\n",
    "    count2 = 0\n",
    "    \n",
    "    for i in range(n):             # First count no of Zeroes, One's and Two's\n",
    "        if li[i] == 0:\n",
    "            count0 += 1\n",
    "        elif li[i] == 1:\n",
    "            count1 += 1\n",
    "        else:\n",
    "            count2 += 1\n",
    "            \n",
    "    sorted_li = [0]*n              # Arrange Zeroes, One's and Two's\n",
    "    for i in range(count0):\n",
    "        sorted_li[i] = 0\n",
    "    for j in range(count0, count0+count1):\n",
    "        sorted_li[j] = 1\n",
    "    for k in range(count0+count1, count0+count1+count2):\n",
    "        sorted_li[k] = 2\n",
    "    return sorted_li\n",
    "    \n",
    "n = int(input())\n",
    "li = [int(i) for i in input().strip().split()]\n",
    "\n",
    "x = Sort012(n, li)\n",
    "print(*x)"
   ]
  },
  {
   "cell_type": "markdown",
   "metadata": {},
   "source": [
    "### Python code 02"
   ]
  },
  {
   "cell_type": "code",
   "execution_count": 23,
   "metadata": {},
   "outputs": [
    {
     "name": "stdout",
     "output_type": "stream",
     "text": [
      "8\n",
      "1 0 2 1 0 0 2 1\n",
      "0 0 0 1 1 1 2 2\n"
     ]
    }
   ],
   "source": [
    "def Sort012(n, li):\n",
    "    nz = 0\n",
    "    nt = n-1\n",
    "    \n",
    "    sorted_li = [0]*n\n",
    "    for ele in li:                  # first start filling zeroes at the start and Two's at the end \n",
    "        if ele == 0:\n",
    "            sorted_li[nz] = 0\n",
    "            nz += 1\n",
    "        elif ele == 2:\n",
    "            sorted_li[nt] = 2\n",
    "            nt -= 1\n",
    "            \n",
    "    while nz <= nt:                 # Fill One's in the middle of Zeroes and Two's\n",
    "        sorted_li[nz] = 1\n",
    "        nz += 1\n",
    "    return sorted_li\n",
    "    \n",
    "n = int(input())\n",
    "li = [int(i) for i in input().strip().split()]\n",
    "\n",
    "x = Sort012(n, li)\n",
    "print(*x)"
   ]
  },
  {
   "cell_type": "markdown",
   "metadata": {},
   "source": [
    "### Python Code 03"
   ]
  },
  {
   "cell_type": "code",
   "execution_count": 4,
   "metadata": {},
   "outputs": [
    {
     "name": "stdout",
     "output_type": "stream",
     "text": [
      "9\n",
      "0 1 0 2 2 1 0 0 2\n",
      "0 0 0 0 1 1 2 2 2\n"
     ]
    }
   ],
   "source": [
    "def Sort012(n, li):\n",
    "    i = 0\n",
    "    nz = 0\n",
    "    nt = n - 1\n",
    "    \n",
    "    while i <= nt:                       # Increse count of i when found One's(1) or seach for zero to swap\n",
    "        if li[i] == 1:\n",
    "            i += 1\n",
    "            \n",
    "        elif li[i] == 0:                  # Swap Zeroes(0) element with nonZero(nz)\n",
    "            li[i], li[nz] = li[nz], li[i]\n",
    "            i += 1\n",
    "            nz += 1\n",
    "            \n",
    "        elif li[i] == 2:                  # Swap Two's(2) elements with non-Two's(nt)\n",
    "            li[i], li[nt] = li[nt], li[i]\n",
    "            nt -= 1        \n",
    "\n",
    "n = int(input())\n",
    "li = [int(x) for x in input().strip().split()]\n",
    "Sort012(n, li)\n",
    "print(*li)"
   ]
  },
  {
   "cell_type": "markdown",
   "metadata": {},
   "source": [
    "# 25. problem : Sum of two Arrays"
   ]
  },
  {
   "cell_type": "raw",
   "metadata": {},
   "source": [
    "Two random integer arrays are given A1 and A2, in which numbers from 0 to 9 are present at every index (i.e. single digit integer is present at every index of both given arrays).\n",
    "You need to find sum of both the input arrays (like we add two integers) and put the result in another array i.e. output array (output arrays should also contain only single digits at every index).\n",
    "The size A1 & A2 can be different.\n",
    "\n",
    "Note : Output array size should be 1 more than the size of bigger array and place 0 at the 0th index if there is no carry. No need to print the elements of output array.\n",
    "\n",
    "Input format : Line 1 : Integer n1 (A1 Size)\n",
    "               Line 2 : A1 elements (separated by space)\n",
    "               Line 3 : Integer n2 (A2 Size)\n",
    "               Line 4 : A2 elements (separated by space)\n",
    "Output Format : Output array elements (separated by space)\n",
    "Constraints : 1 <= n1, n2 <= 10^6\n",
    "\n",
    "Sample Input 1:\n",
    "3\n",
    "6 2 4\n",
    "3\n",
    "7 5 6\n",
    "\n",
    "Sample Output 1:\n",
    "1 3 8 0\n",
    "\n",
    "Sample Input 2:\n",
    "3\n",
    "8 5 2\n",
    "2\n",
    "1 3\n",
    "\n",
    "Sample Output 2:\n",
    "0 8 6 5"
   ]
  },
  {
   "cell_type": "markdown",
   "metadata": {},
   "source": [
    "### Python Code"
   ]
  },
  {
   "cell_type": "code",
   "execution_count": 6,
   "metadata": {},
   "outputs": [
    {
     "name": "stdout",
     "output_type": "stream",
     "text": [
      "3\n",
      "8 5 2\n",
      "2\n",
      "1 3\n",
      "0 8 6 5\n"
     ]
    }
   ],
   "source": [
    "n1 = int(input())\n",
    "li1 = [int(x) for x in input().strip().split()]\n",
    "n2 = int(input())\n",
    "li2 = [int(x) for x in input().strip().split()]\n",
    "\n",
    "def SumOfTwoArrays(n1, li1, n2, li2):\n",
    "    n3 = n1 if n1 > n2 else n2                          \n",
    "    li3 = [0] * (n3+1)                    # Including one carry digit in final sum\n",
    "    \n",
    "    carry = 0\n",
    "    i1 = n1 - 1\n",
    "    i2 = n2 - 1\n",
    "    i3 = n3 -1\n",
    "    \n",
    "    while i3 >= 0:\n",
    "        sum = 0\n",
    "        \n",
    "        if i1 >= 0 :                      # Adding elements of first array from the end\n",
    "            sum += li1[i1]\n",
    "            i1 -= 1\n",
    "            \n",
    "        if i2 >= 0:                       # Adding elements of second array from the end\n",
    "            sum += li2[i2]\n",
    "            i2 -= 1\n",
    "            \n",
    "        sum += carry                      # Adding the carry to find final sum\n",
    "        carry = sum // 10                 # finding the most significant digit as carry\n",
    "        li3[i3] = sum % 10                # Least significant digit will get stored in the result array from end \n",
    "        i3 -= 1\n",
    "    return li3\n",
    "\n",
    "ans = SumOfTwoArrays(n1, li1, n2, li2)\n",
    "print(*ans)"
   ]
  }
 ],
 "metadata": {
  "kernelspec": {
   "display_name": "Python 3",
   "language": "python",
   "name": "python3"
  },
  "language_info": {
   "codemirror_mode": {
    "name": "ipython",
    "version": 3
   },
   "file_extension": ".py",
   "mimetype": "text/x-python",
   "name": "python",
   "nbconvert_exporter": "python",
   "pygments_lexer": "ipython3",
   "version": "3.7.3"
  }
 },
 "nbformat": 4,
 "nbformat_minor": 2
}
